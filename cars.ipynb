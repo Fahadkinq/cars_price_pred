{
 "cells": [
  {
   "cell_type": "code",
   "execution_count": 1,
   "metadata": {},
   "outputs": [
    {
     "name": "stderr",
     "output_type": "stream",
     "text": [
      "C:\\Users\\AKBAR\\Anaconda\\lib\\site-packages\\pandas\\compat\\_optional.py:138: UserWarning: Pandas requires version '2.7.0' or newer of 'numexpr' (version '2.6.9' currently installed).\n",
      "  warnings.warn(msg, UserWarning)\n"
     ]
    }
   ],
   "source": [
    "import pandas as pd\n",
    "import numpy as np"
   ]
  },
  {
   "cell_type": "code",
   "execution_count": 2,
   "metadata": {},
   "outputs": [],
   "source": [
    "import seaborn as sns\n",
    "import matplotlib.pyplot as plt\n",
    "%matplotlib inline"
   ]
  },
  {
   "cell_type": "code",
   "execution_count": 3,
   "metadata": {},
   "outputs": [],
   "source": [
    "df = pd.read_csv(\"pre-owned cars.csv\")"
   ]
  },
  {
   "cell_type": "code",
   "execution_count": 4,
   "metadata": {},
   "outputs": [
    {
     "data": {
      "text/html": [
       "<div>\n",
       "<style scoped>\n",
       "    .dataframe tbody tr th:only-of-type {\n",
       "        vertical-align: middle;\n",
       "    }\n",
       "\n",
       "    .dataframe tbody tr th {\n",
       "        vertical-align: top;\n",
       "    }\n",
       "\n",
       "    .dataframe thead th {\n",
       "        text-align: right;\n",
       "    }\n",
       "</style>\n",
       "<table border=\"1\" class=\"dataframe\">\n",
       "  <thead>\n",
       "    <tr style=\"text-align: right;\">\n",
       "      <th></th>\n",
       "      <th>brand</th>\n",
       "      <th>model</th>\n",
       "      <th>transmission</th>\n",
       "      <th>make_year</th>\n",
       "      <th>reg_year</th>\n",
       "      <th>fuel_type</th>\n",
       "      <th>engine_capacity(CC)</th>\n",
       "      <th>km_driven</th>\n",
       "      <th>ownership</th>\n",
       "      <th>price</th>\n",
       "      <th>overall_cost</th>\n",
       "      <th>has_insurance</th>\n",
       "      <th>spare_key</th>\n",
       "      <th>reg_number</th>\n",
       "      <th>title</th>\n",
       "    </tr>\n",
       "  </thead>\n",
       "  <tbody>\n",
       "    <tr>\n",
       "      <th>0</th>\n",
       "      <td>Mahindra</td>\n",
       "      <td>Thar LX D 4WD MT CONVERTIBLE</td>\n",
       "      <td>Manual</td>\n",
       "      <td>2020.0</td>\n",
       "      <td>01-01-2021</td>\n",
       "      <td>Diesel</td>\n",
       "      <td>2184.0</td>\n",
       "      <td>11003.0</td>\n",
       "      <td>1st owner</td>\n",
       "      <td>1231000</td>\n",
       "      <td>23431.0</td>\n",
       "      <td>True</td>\n",
       "      <td>No</td>\n",
       "      <td>HR26</td>\n",
       "      <td>2020 Mahindra Thar LX D 4WD MT CONVERTIBLE</td>\n",
       "    </tr>\n",
       "    <tr>\n",
       "      <th>1</th>\n",
       "      <td>Hyundai</td>\n",
       "      <td>Verna 1.6 VTVT SX</td>\n",
       "      <td>Manual</td>\n",
       "      <td>2018.0</td>\n",
       "      <td>01-07-2018</td>\n",
       "      <td>Petrol</td>\n",
       "      <td>1591.0</td>\n",
       "      <td>66936.0</td>\n",
       "      <td>1st owner</td>\n",
       "      <td>786000</td>\n",
       "      <td>15359.0</td>\n",
       "      <td>True</td>\n",
       "      <td>No</td>\n",
       "      <td>DL7C</td>\n",
       "      <td>2018 Hyundai Verna 1.6 VTVT SX</td>\n",
       "    </tr>\n",
       "    <tr>\n",
       "      <th>2</th>\n",
       "      <td>Tata</td>\n",
       "      <td>Harrier XT PLUS 2.0L KRYOTEC DARK EDITON</td>\n",
       "      <td>Manual</td>\n",
       "      <td>2022.0</td>\n",
       "      <td>01-08-2022</td>\n",
       "      <td>Diesel</td>\n",
       "      <td>1956.0</td>\n",
       "      <td>27990.0</td>\n",
       "      <td>1st owner</td>\n",
       "      <td>1489000</td>\n",
       "      <td>28349.0</td>\n",
       "      <td>True</td>\n",
       "      <td>No</td>\n",
       "      <td>HR29</td>\n",
       "      <td>2022 Tata Harrier XT PLUS 2.0L KRYOTEC DARK ED...</td>\n",
       "    </tr>\n",
       "    <tr>\n",
       "      <th>3</th>\n",
       "      <td>Honda</td>\n",
       "      <td>City 1.5L I-VTE V CVT</td>\n",
       "      <td>Automatic</td>\n",
       "      <td>2023.0</td>\n",
       "      <td>01-04-2023</td>\n",
       "      <td>Petrol</td>\n",
       "      <td>1498.0</td>\n",
       "      <td>5061.0</td>\n",
       "      <td>1st owner</td>\n",
       "      <td>1227000</td>\n",
       "      <td>23355.0</td>\n",
       "      <td>True</td>\n",
       "      <td>Yes</td>\n",
       "      <td>DL4C</td>\n",
       "      <td>2023 Honda City 1.5L I-VTE V CVT</td>\n",
       "    </tr>\n",
       "    <tr>\n",
       "      <th>4</th>\n",
       "      <td>Ford</td>\n",
       "      <td>Ecosport TITANIUM 1.5L DIESEL</td>\n",
       "      <td>Manual</td>\n",
       "      <td>2021.0</td>\n",
       "      <td>01-07-2021</td>\n",
       "      <td>Diesel</td>\n",
       "      <td>1498.0</td>\n",
       "      <td>23480.0</td>\n",
       "      <td>1st owner</td>\n",
       "      <td>887000</td>\n",
       "      <td>16883.0</td>\n",
       "      <td>True</td>\n",
       "      <td>No</td>\n",
       "      <td>UP14</td>\n",
       "      <td>2021 Ford Ecosport TITANIUM 1.5L DIESEL</td>\n",
       "    </tr>\n",
       "  </tbody>\n",
       "</table>\n",
       "</div>"
      ],
      "text/plain": [
       "      brand                                     model transmission  make_year  \\\n",
       "0  Mahindra              Thar LX D 4WD MT CONVERTIBLE       Manual     2020.0   \n",
       "1   Hyundai                         Verna 1.6 VTVT SX       Manual     2018.0   \n",
       "2      Tata  Harrier XT PLUS 2.0L KRYOTEC DARK EDITON       Manual     2022.0   \n",
       "3     Honda                     City 1.5L I-VTE V CVT    Automatic     2023.0   \n",
       "4      Ford             Ecosport TITANIUM 1.5L DIESEL       Manual     2021.0   \n",
       "\n",
       "     reg_year fuel_type  engine_capacity(CC)  km_driven  ownership    price  \\\n",
       "0  01-01-2021    Diesel               2184.0    11003.0  1st owner  1231000   \n",
       "1  01-07-2018    Petrol               1591.0    66936.0  1st owner   786000   \n",
       "2  01-08-2022    Diesel               1956.0    27990.0  1st owner  1489000   \n",
       "3  01-04-2023    Petrol               1498.0     5061.0  1st owner  1227000   \n",
       "4  01-07-2021    Diesel               1498.0    23480.0  1st owner   887000   \n",
       "\n",
       "   overall_cost has_insurance spare_key reg_number  \\\n",
       "0       23431.0          True        No       HR26   \n",
       "1       15359.0          True        No       DL7C   \n",
       "2       28349.0          True        No       HR29   \n",
       "3       23355.0          True       Yes       DL4C   \n",
       "4       16883.0          True        No       UP14   \n",
       "\n",
       "                                               title  \n",
       "0         2020 Mahindra Thar LX D 4WD MT CONVERTIBLE  \n",
       "1                     2018 Hyundai Verna 1.6 VTVT SX  \n",
       "2  2022 Tata Harrier XT PLUS 2.0L KRYOTEC DARK ED...  \n",
       "3                   2023 Honda City 1.5L I-VTE V CVT  \n",
       "4            2021 Ford Ecosport TITANIUM 1.5L DIESEL  "
      ]
     },
     "execution_count": 4,
     "metadata": {},
     "output_type": "execute_result"
    }
   ],
   "source": [
    "df.head()"
   ]
  },
  {
   "cell_type": "code",
   "execution_count": 5,
   "metadata": {},
   "outputs": [
    {
     "name": "stdout",
     "output_type": "stream",
     "text": [
      "<class 'pandas.core.frame.DataFrame'>\n",
      "RangeIndex: 2806 entries, 0 to 2805\n",
      "Data columns (total 15 columns):\n",
      " #   Column               Non-Null Count  Dtype  \n",
      "---  ------               --------------  -----  \n",
      " 0   brand                2805 non-null   object \n",
      " 1   model                2805 non-null   object \n",
      " 2   transmission         2805 non-null   object \n",
      " 3   make_year            2805 non-null   float64\n",
      " 4   reg_year             720 non-null    object \n",
      " 5   fuel_type            2805 non-null   object \n",
      " 6   engine_capacity(CC)  2688 non-null   float64\n",
      " 7   km_driven            2805 non-null   float64\n",
      " 8   ownership            2805 non-null   object \n",
      " 9   price                2806 non-null   int64  \n",
      " 10  overall_cost         2805 non-null   float64\n",
      " 11  has_insurance        2805 non-null   object \n",
      " 12  spare_key            2805 non-null   object \n",
      " 13  reg_number           2805 non-null   object \n",
      " 14  title                2805 non-null   object \n",
      "dtypes: float64(4), int64(1), object(10)\n",
      "memory usage: 329.0+ KB\n"
     ]
    }
   ],
   "source": [
    "df.info()"
   ]
  },
  {
   "cell_type": "code",
   "execution_count": 6,
   "metadata": {},
   "outputs": [
    {
     "data": {
      "text/plain": [
       "No     2052\n",
       "Yes     753\n",
       "Name: spare_key, dtype: int64"
      ]
     },
     "execution_count": 6,
     "metadata": {},
     "output_type": "execute_result"
    }
   ],
   "source": [
    "df['spare_key'].value_counts()"
   ]
  },
  {
   "cell_type": "code",
   "execution_count": 7,
   "metadata": {},
   "outputs": [
    {
     "data": {
      "text/html": [
       "<div>\n",
       "<style scoped>\n",
       "    .dataframe tbody tr th:only-of-type {\n",
       "        vertical-align: middle;\n",
       "    }\n",
       "\n",
       "    .dataframe tbody tr th {\n",
       "        vertical-align: top;\n",
       "    }\n",
       "\n",
       "    .dataframe thead th {\n",
       "        text-align: right;\n",
       "    }\n",
       "</style>\n",
       "<table border=\"1\" class=\"dataframe\">\n",
       "  <thead>\n",
       "    <tr style=\"text-align: right;\">\n",
       "      <th></th>\n",
       "      <th>brand</th>\n",
       "      <th>model</th>\n",
       "      <th>transmission</th>\n",
       "      <th>make_year</th>\n",
       "      <th>reg_year</th>\n",
       "      <th>fuel_type</th>\n",
       "      <th>engine_capacity(CC)</th>\n",
       "      <th>km_driven</th>\n",
       "      <th>ownership</th>\n",
       "      <th>price</th>\n",
       "      <th>overall_cost</th>\n",
       "      <th>has_insurance</th>\n",
       "      <th>spare_key</th>\n",
       "      <th>reg_number</th>\n",
       "      <th>title</th>\n",
       "    </tr>\n",
       "  </thead>\n",
       "  <tbody>\n",
       "    <tr>\n",
       "      <th>2805</th>\n",
       "      <td>NaN</td>\n",
       "      <td>NaN</td>\n",
       "      <td>NaN</td>\n",
       "      <td>NaN</td>\n",
       "      <td>NaN</td>\n",
       "      <td>NaN</td>\n",
       "      <td>NaN</td>\n",
       "      <td>NaN</td>\n",
       "      <td>NaN</td>\n",
       "      <td>1883558000</td>\n",
       "      <td>NaN</td>\n",
       "      <td>NaN</td>\n",
       "      <td>NaN</td>\n",
       "      <td>NaN</td>\n",
       "      <td>NaN</td>\n",
       "    </tr>\n",
       "  </tbody>\n",
       "</table>\n",
       "</div>"
      ],
      "text/plain": [
       "     brand model transmission  make_year reg_year fuel_type  \\\n",
       "2805   NaN   NaN          NaN        NaN      NaN       NaN   \n",
       "\n",
       "      engine_capacity(CC)  km_driven ownership       price  overall_cost  \\\n",
       "2805                  NaN        NaN       NaN  1883558000           NaN   \n",
       "\n",
       "     has_insurance spare_key reg_number title  \n",
       "2805           NaN       NaN        NaN   NaN  "
      ]
     },
     "execution_count": 7,
     "metadata": {},
     "output_type": "execute_result"
    }
   ],
   "source": [
    "df[df['transmission'].isnull()] #not enough info lets drop this row"
   ]
  },
  {
   "cell_type": "code",
   "execution_count": 8,
   "metadata": {},
   "outputs": [],
   "source": [
    "df.drop(2805,axis=0,inplace=True)"
   ]
  },
  {
   "cell_type": "code",
   "execution_count": 9,
   "metadata": {},
   "outputs": [
    {
     "data": {
      "text/plain": [
       "0"
      ]
     },
     "execution_count": 9,
     "metadata": {},
     "output_type": "execute_result"
    }
   ],
   "source": [
    "df['transmission'].isnull().sum()"
   ]
  },
  {
   "cell_type": "code",
   "execution_count": 10,
   "metadata": {},
   "outputs": [],
   "source": [
    "df['spare_key']=df['spare_key'].apply(lambda Yes: 1 if Yes else 0)"
   ]
  },
  {
   "cell_type": "code",
   "execution_count": 11,
   "metadata": {},
   "outputs": [
    {
     "data": {
      "text/html": [
       "<div>\n",
       "<style scoped>\n",
       "    .dataframe tbody tr th:only-of-type {\n",
       "        vertical-align: middle;\n",
       "    }\n",
       "\n",
       "    .dataframe tbody tr th {\n",
       "        vertical-align: top;\n",
       "    }\n",
       "\n",
       "    .dataframe thead th {\n",
       "        text-align: right;\n",
       "    }\n",
       "</style>\n",
       "<table border=\"1\" class=\"dataframe\">\n",
       "  <thead>\n",
       "    <tr style=\"text-align: right;\">\n",
       "      <th></th>\n",
       "      <th>brand</th>\n",
       "      <th>model</th>\n",
       "      <th>transmission</th>\n",
       "      <th>make_year</th>\n",
       "      <th>reg_year</th>\n",
       "      <th>fuel_type</th>\n",
       "      <th>engine_capacity(CC)</th>\n",
       "      <th>km_driven</th>\n",
       "      <th>ownership</th>\n",
       "      <th>price</th>\n",
       "      <th>overall_cost</th>\n",
       "      <th>has_insurance</th>\n",
       "      <th>spare_key</th>\n",
       "      <th>reg_number</th>\n",
       "      <th>title</th>\n",
       "    </tr>\n",
       "  </thead>\n",
       "  <tbody>\n",
       "    <tr>\n",
       "      <th>0</th>\n",
       "      <td>Mahindra</td>\n",
       "      <td>Thar LX D 4WD MT CONVERTIBLE</td>\n",
       "      <td>Manual</td>\n",
       "      <td>2020.0</td>\n",
       "      <td>01-01-2021</td>\n",
       "      <td>Diesel</td>\n",
       "      <td>2184.0</td>\n",
       "      <td>11003.0</td>\n",
       "      <td>1st owner</td>\n",
       "      <td>1231000</td>\n",
       "      <td>23431.0</td>\n",
       "      <td>True</td>\n",
       "      <td>1</td>\n",
       "      <td>HR26</td>\n",
       "      <td>2020 Mahindra Thar LX D 4WD MT CONVERTIBLE</td>\n",
       "    </tr>\n",
       "    <tr>\n",
       "      <th>1</th>\n",
       "      <td>Hyundai</td>\n",
       "      <td>Verna 1.6 VTVT SX</td>\n",
       "      <td>Manual</td>\n",
       "      <td>2018.0</td>\n",
       "      <td>01-07-2018</td>\n",
       "      <td>Petrol</td>\n",
       "      <td>1591.0</td>\n",
       "      <td>66936.0</td>\n",
       "      <td>1st owner</td>\n",
       "      <td>786000</td>\n",
       "      <td>15359.0</td>\n",
       "      <td>True</td>\n",
       "      <td>1</td>\n",
       "      <td>DL7C</td>\n",
       "      <td>2018 Hyundai Verna 1.6 VTVT SX</td>\n",
       "    </tr>\n",
       "    <tr>\n",
       "      <th>2</th>\n",
       "      <td>Tata</td>\n",
       "      <td>Harrier XT PLUS 2.0L KRYOTEC DARK EDITON</td>\n",
       "      <td>Manual</td>\n",
       "      <td>2022.0</td>\n",
       "      <td>01-08-2022</td>\n",
       "      <td>Diesel</td>\n",
       "      <td>1956.0</td>\n",
       "      <td>27990.0</td>\n",
       "      <td>1st owner</td>\n",
       "      <td>1489000</td>\n",
       "      <td>28349.0</td>\n",
       "      <td>True</td>\n",
       "      <td>1</td>\n",
       "      <td>HR29</td>\n",
       "      <td>2022 Tata Harrier XT PLUS 2.0L KRYOTEC DARK ED...</td>\n",
       "    </tr>\n",
       "    <tr>\n",
       "      <th>3</th>\n",
       "      <td>Honda</td>\n",
       "      <td>City 1.5L I-VTE V CVT</td>\n",
       "      <td>Automatic</td>\n",
       "      <td>2023.0</td>\n",
       "      <td>01-04-2023</td>\n",
       "      <td>Petrol</td>\n",
       "      <td>1498.0</td>\n",
       "      <td>5061.0</td>\n",
       "      <td>1st owner</td>\n",
       "      <td>1227000</td>\n",
       "      <td>23355.0</td>\n",
       "      <td>True</td>\n",
       "      <td>1</td>\n",
       "      <td>DL4C</td>\n",
       "      <td>2023 Honda City 1.5L I-VTE V CVT</td>\n",
       "    </tr>\n",
       "    <tr>\n",
       "      <th>4</th>\n",
       "      <td>Ford</td>\n",
       "      <td>Ecosport TITANIUM 1.5L DIESEL</td>\n",
       "      <td>Manual</td>\n",
       "      <td>2021.0</td>\n",
       "      <td>01-07-2021</td>\n",
       "      <td>Diesel</td>\n",
       "      <td>1498.0</td>\n",
       "      <td>23480.0</td>\n",
       "      <td>1st owner</td>\n",
       "      <td>887000</td>\n",
       "      <td>16883.0</td>\n",
       "      <td>True</td>\n",
       "      <td>1</td>\n",
       "      <td>UP14</td>\n",
       "      <td>2021 Ford Ecosport TITANIUM 1.5L DIESEL</td>\n",
       "    </tr>\n",
       "  </tbody>\n",
       "</table>\n",
       "</div>"
      ],
      "text/plain": [
       "      brand                                     model transmission  make_year  \\\n",
       "0  Mahindra              Thar LX D 4WD MT CONVERTIBLE       Manual     2020.0   \n",
       "1   Hyundai                         Verna 1.6 VTVT SX       Manual     2018.0   \n",
       "2      Tata  Harrier XT PLUS 2.0L KRYOTEC DARK EDITON       Manual     2022.0   \n",
       "3     Honda                     City 1.5L I-VTE V CVT    Automatic     2023.0   \n",
       "4      Ford             Ecosport TITANIUM 1.5L DIESEL       Manual     2021.0   \n",
       "\n",
       "     reg_year fuel_type  engine_capacity(CC)  km_driven  ownership    price  \\\n",
       "0  01-01-2021    Diesel               2184.0    11003.0  1st owner  1231000   \n",
       "1  01-07-2018    Petrol               1591.0    66936.0  1st owner   786000   \n",
       "2  01-08-2022    Diesel               1956.0    27990.0  1st owner  1489000   \n",
       "3  01-04-2023    Petrol               1498.0     5061.0  1st owner  1227000   \n",
       "4  01-07-2021    Diesel               1498.0    23480.0  1st owner   887000   \n",
       "\n",
       "   overall_cost has_insurance  spare_key reg_number  \\\n",
       "0       23431.0          True          1       HR26   \n",
       "1       15359.0          True          1       DL7C   \n",
       "2       28349.0          True          1       HR29   \n",
       "3       23355.0          True          1       DL4C   \n",
       "4       16883.0          True          1       UP14   \n",
       "\n",
       "                                               title  \n",
       "0         2020 Mahindra Thar LX D 4WD MT CONVERTIBLE  \n",
       "1                     2018 Hyundai Verna 1.6 VTVT SX  \n",
       "2  2022 Tata Harrier XT PLUS 2.0L KRYOTEC DARK ED...  \n",
       "3                   2023 Honda City 1.5L I-VTE V CVT  \n",
       "4            2021 Ford Ecosport TITANIUM 1.5L DIESEL  "
      ]
     },
     "execution_count": 11,
     "metadata": {},
     "output_type": "execute_result"
    }
   ],
   "source": [
    "df.head()"
   ]
  },
  {
   "cell_type": "code",
   "execution_count": 12,
   "metadata": {},
   "outputs": [],
   "source": [
    "#Before converting other columns lets check null values of the columns"
   ]
  },
  {
   "cell_type": "code",
   "execution_count": 13,
   "metadata": {},
   "outputs": [
    {
     "data": {
      "text/plain": [
       "<matplotlib.axes._subplots.AxesSubplot at 0xddbbcf8>"
      ]
     },
     "execution_count": 13,
     "metadata": {},
     "output_type": "execute_result"
    },
    {
     "data": {
      "image/png": "[encoded data removed]",
      "text/plain": [
       "<Figure size 720x432 with 1 Axes>"
      ]
     },
     "metadata": {
      "needs_background": "light"
     },
     "output_type": "display_data"
    }
   ],
   "source": [
    "plt.figure(figsize=(10,6))\n",
    "sns.heatmap(df.isnull(),cbar=False,yticklabels=False)"
   ]
  },
  {
   "cell_type": "code",
   "execution_count": 14,
   "metadata": {},
   "outputs": [],
   "source": [
    "df.drop('reg_year',axis=1,inplace=True)"
   ]
  },
  {
   "cell_type": "code",
   "execution_count": 15,
   "metadata": {},
   "outputs": [
    {
     "data": {
      "text/plain": [
       "117"
      ]
     },
     "execution_count": 15,
     "metadata": {},
     "output_type": "execute_result"
    }
   ],
   "source": [
    "df['engine_capacity(CC)'].isnull().sum()"
   ]
  },
  {
   "cell_type": "code",
   "execution_count": 16,
   "metadata": {},
   "outputs": [],
   "source": [
    "#lets replace missing values with null values handling methods such as mean median and mode"
   ]
  },
  {
   "cell_type": "code",
   "execution_count": 17,
   "metadata": {},
   "outputs": [],
   "source": [
    "df['engine_capacity(CC)']=df['engine_capacity(CC)'].fillna(df['engine_capacity(CC)'].median())"
   ]
  },
  {
   "cell_type": "code",
   "execution_count": 18,
   "metadata": {},
   "outputs": [
    {
     "data": {
      "text/plain": [
       "0"
      ]
     },
     "execution_count": 18,
     "metadata": {},
     "output_type": "execute_result"
    }
   ],
   "source": [
    "df['engine_capacity(CC)'].isnull().sum()"
   ]
  },
  {
   "cell_type": "code",
   "execution_count": 19,
   "metadata": {},
   "outputs": [
    {
     "data": {
      "text/plain": [
       "brand                  0\n",
       "model                  0\n",
       "transmission           0\n",
       "make_year              0\n",
       "fuel_type              0\n",
       "engine_capacity(CC)    0\n",
       "km_driven              0\n",
       "ownership              0\n",
       "price                  0\n",
       "overall_cost           0\n",
       "has_insurance          0\n",
       "spare_key              0\n",
       "reg_number             0\n",
       "title                  0\n",
       "dtype: int64"
      ]
     },
     "execution_count": 19,
     "metadata": {},
     "output_type": "execute_result"
    }
   ],
   "source": [
    "df.isnull().sum()"
   ]
  },
  {
   "cell_type": "code",
   "execution_count": 20,
   "metadata": {},
   "outputs": [],
   "source": [
    "#No missing values lets keep normalizing the columns"
   ]
  },
  {
   "cell_type": "code",
   "execution_count": 21,
   "metadata": {},
   "outputs": [
    {
     "data": {
      "text/plain": [
       "array(['Manual', 'Automatic'], dtype=object)"
      ]
     },
     "execution_count": 21,
     "metadata": {},
     "output_type": "execute_result"
    }
   ],
   "source": [
    "df['transmission'].unique()"
   ]
  },
  {
   "cell_type": "code",
   "execution_count": 22,
   "metadata": {},
   "outputs": [],
   "source": [
    "df['transmission']=df['transmission'].apply(lambda Manual: 1 if Manual else 0)"
   ]
  },
  {
   "cell_type": "code",
   "execution_count": 23,
   "metadata": {},
   "outputs": [
    {
     "data": {
      "text/html": [
       "<div>\n",
       "<style scoped>\n",
       "    .dataframe tbody tr th:only-of-type {\n",
       "        vertical-align: middle;\n",
       "    }\n",
       "\n",
       "    .dataframe tbody tr th {\n",
       "        vertical-align: top;\n",
       "    }\n",
       "\n",
       "    .dataframe thead th {\n",
       "        text-align: right;\n",
       "    }\n",
       "</style>\n",
       "<table border=\"1\" class=\"dataframe\">\n",
       "  <thead>\n",
       "    <tr style=\"text-align: right;\">\n",
       "      <th></th>\n",
       "      <th>brand</th>\n",
       "      <th>model</th>\n",
       "      <th>transmission</th>\n",
       "      <th>make_year</th>\n",
       "      <th>fuel_type</th>\n",
       "      <th>engine_capacity(CC)</th>\n",
       "      <th>km_driven</th>\n",
       "      <th>ownership</th>\n",
       "      <th>price</th>\n",
       "      <th>overall_cost</th>\n",
       "      <th>has_insurance</th>\n",
       "      <th>spare_key</th>\n",
       "      <th>reg_number</th>\n",
       "      <th>title</th>\n",
       "    </tr>\n",
       "  </thead>\n",
       "  <tbody>\n",
       "    <tr>\n",
       "      <th>0</th>\n",
       "      <td>Mahindra</td>\n",
       "      <td>Thar LX D 4WD MT CONVERTIBLE</td>\n",
       "      <td>1</td>\n",
       "      <td>2020.0</td>\n",
       "      <td>Diesel</td>\n",
       "      <td>2184.0</td>\n",
       "      <td>11003.0</td>\n",
       "      <td>1st owner</td>\n",
       "      <td>1231000</td>\n",
       "      <td>23431.0</td>\n",
       "      <td>True</td>\n",
       "      <td>1</td>\n",
       "      <td>HR26</td>\n",
       "      <td>2020 Mahindra Thar LX D 4WD MT CONVERTIBLE</td>\n",
       "    </tr>\n",
       "    <tr>\n",
       "      <th>1</th>\n",
       "      <td>Hyundai</td>\n",
       "      <td>Verna 1.6 VTVT SX</td>\n",
       "      <td>1</td>\n",
       "      <td>2018.0</td>\n",
       "      <td>Petrol</td>\n",
       "      <td>1591.0</td>\n",
       "      <td>66936.0</td>\n",
       "      <td>1st owner</td>\n",
       "      <td>786000</td>\n",
       "      <td>15359.0</td>\n",
       "      <td>True</td>\n",
       "      <td>1</td>\n",
       "      <td>DL7C</td>\n",
       "      <td>2018 Hyundai Verna 1.6 VTVT SX</td>\n",
       "    </tr>\n",
       "    <tr>\n",
       "      <th>2</th>\n",
       "      <td>Tata</td>\n",
       "      <td>Harrier XT PLUS 2.0L KRYOTEC DARK EDITON</td>\n",
       "      <td>1</td>\n",
       "      <td>2022.0</td>\n",
       "      <td>Diesel</td>\n",
       "      <td>1956.0</td>\n",
       "      <td>27990.0</td>\n",
       "      <td>1st owner</td>\n",
       "      <td>1489000</td>\n",
       "      <td>28349.0</td>\n",
       "      <td>True</td>\n",
       "      <td>1</td>\n",
       "      <td>HR29</td>\n",
       "      <td>2022 Tata Harrier XT PLUS 2.0L KRYOTEC DARK ED...</td>\n",
       "    </tr>\n",
       "    <tr>\n",
       "      <th>3</th>\n",
       "      <td>Honda</td>\n",
       "      <td>City 1.5L I-VTE V CVT</td>\n",
       "      <td>1</td>\n",
       "      <td>2023.0</td>\n",
       "      <td>Petrol</td>\n",
       "      <td>1498.0</td>\n",
       "      <td>5061.0</td>\n",
       "      <td>1st owner</td>\n",
       "      <td>1227000</td>\n",
       "      <td>23355.0</td>\n",
       "      <td>True</td>\n",
       "      <td>1</td>\n",
       "      <td>DL4C</td>\n",
       "      <td>2023 Honda City 1.5L I-VTE V CVT</td>\n",
       "    </tr>\n",
       "    <tr>\n",
       "      <th>4</th>\n",
       "      <td>Ford</td>\n",
       "      <td>Ecosport TITANIUM 1.5L DIESEL</td>\n",
       "      <td>1</td>\n",
       "      <td>2021.0</td>\n",
       "      <td>Diesel</td>\n",
       "      <td>1498.0</td>\n",
       "      <td>23480.0</td>\n",
       "      <td>1st owner</td>\n",
       "      <td>887000</td>\n",
       "      <td>16883.0</td>\n",
       "      <td>True</td>\n",
       "      <td>1</td>\n",
       "      <td>UP14</td>\n",
       "      <td>2021 Ford Ecosport TITANIUM 1.5L DIESEL</td>\n",
       "    </tr>\n",
       "  </tbody>\n",
       "</table>\n",
       "</div>"
      ],
      "text/plain": [
       "      brand                                     model  transmission  \\\n",
       "0  Mahindra              Thar LX D 4WD MT CONVERTIBLE             1   \n",
       "1   Hyundai                         Verna 1.6 VTVT SX             1   \n",
       "2      Tata  Harrier XT PLUS 2.0L KRYOTEC DARK EDITON             1   \n",
       "3     Honda                     City 1.5L I-VTE V CVT             1   \n",
       "4      Ford             Ecosport TITANIUM 1.5L DIESEL             1   \n",
       "\n",
       "   make_year fuel_type  engine_capacity(CC)  km_driven  ownership    price  \\\n",
       "0     2020.0    Diesel               2184.0    11003.0  1st owner  1231000   \n",
       "1     2018.0    Petrol               1591.0    66936.0  1st owner   786000   \n",
       "2     2022.0    Diesel               1956.0    27990.0  1st owner  1489000   \n",
       "3     2023.0    Petrol               1498.0     5061.0  1st owner  1227000   \n",
       "4     2021.0    Diesel               1498.0    23480.0  1st owner   887000   \n",
       "\n",
       "   overall_cost has_insurance  spare_key reg_number  \\\n",
       "0       23431.0          True          1       HR26   \n",
       "1       15359.0          True          1       DL7C   \n",
       "2       28349.0          True          1       HR29   \n",
       "3       23355.0          True          1       DL4C   \n",
       "4       16883.0          True          1       UP14   \n",
       "\n",
       "                                               title  \n",
       "0         2020 Mahindra Thar LX D 4WD MT CONVERTIBLE  \n",
       "1                     2018 Hyundai Verna 1.6 VTVT SX  \n",
       "2  2022 Tata Harrier XT PLUS 2.0L KRYOTEC DARK ED...  \n",
       "3                   2023 Honda City 1.5L I-VTE V CVT  \n",
       "4            2021 Ford Ecosport TITANIUM 1.5L DIESEL  "
      ]
     },
     "execution_count": 23,
     "metadata": {},
     "output_type": "execute_result"
    }
   ],
   "source": [
    "df.head()"
   ]
  },
  {
   "cell_type": "code",
   "execution_count": 24,
   "metadata": {},
   "outputs": [
    {
     "data": {
      "text/plain": [
       "array(['1st owner', '2nd owner', '3rd owner'], dtype=object)"
      ]
     },
     "execution_count": 24,
     "metadata": {},
     "output_type": "execute_result"
    }
   ],
   "source": [
    "df['ownership'].unique()"
   ]
  },
  {
   "cell_type": "code",
   "execution_count": 25,
   "metadata": {},
   "outputs": [],
   "source": [
    "df = pd.get_dummies(df, columns=['ownership'], drop_first=True)"
   ]
  },
  {
   "cell_type": "code",
   "execution_count": 26,
   "metadata": {},
   "outputs": [
    {
     "data": {
      "text/html": [
       "<div>\n",
       "<style scoped>\n",
       "    .dataframe tbody tr th:only-of-type {\n",
       "        vertical-align: middle;\n",
       "    }\n",
       "\n",
       "    .dataframe tbody tr th {\n",
       "        vertical-align: top;\n",
       "    }\n",
       "\n",
       "    .dataframe thead th {\n",
       "        text-align: right;\n",
       "    }\n",
       "</style>\n",
       "<table border=\"1\" class=\"dataframe\">\n",
       "  <thead>\n",
       "    <tr style=\"text-align: right;\">\n",
       "      <th></th>\n",
       "      <th>brand</th>\n",
       "      <th>model</th>\n",
       "      <th>transmission</th>\n",
       "      <th>make_year</th>\n",
       "      <th>fuel_type</th>\n",
       "      <th>engine_capacity(CC)</th>\n",
       "      <th>km_driven</th>\n",
       "      <th>price</th>\n",
       "      <th>overall_cost</th>\n",
       "      <th>has_insurance</th>\n",
       "      <th>spare_key</th>\n",
       "      <th>reg_number</th>\n",
       "      <th>title</th>\n",
       "      <th>ownership_2nd owner</th>\n",
       "      <th>ownership_3rd owner</th>\n",
       "    </tr>\n",
       "  </thead>\n",
       "  <tbody>\n",
       "    <tr>\n",
       "      <th>0</th>\n",
       "      <td>Mahindra</td>\n",
       "      <td>Thar LX D 4WD MT CONVERTIBLE</td>\n",
       "      <td>1</td>\n",
       "      <td>2020.0</td>\n",
       "      <td>Diesel</td>\n",
       "      <td>2184.0</td>\n",
       "      <td>11003.0</td>\n",
       "      <td>1231000</td>\n",
       "      <td>23431.0</td>\n",
       "      <td>True</td>\n",
       "      <td>1</td>\n",
       "      <td>HR26</td>\n",
       "      <td>2020 Mahindra Thar LX D 4WD MT CONVERTIBLE</td>\n",
       "      <td>0</td>\n",
       "      <td>0</td>\n",
       "    </tr>\n",
       "    <tr>\n",
       "      <th>1</th>\n",
       "      <td>Hyundai</td>\n",
       "      <td>Verna 1.6 VTVT SX</td>\n",
       "      <td>1</td>\n",
       "      <td>2018.0</td>\n",
       "      <td>Petrol</td>\n",
       "      <td>1591.0</td>\n",
       "      <td>66936.0</td>\n",
       "      <td>786000</td>\n",
       "      <td>15359.0</td>\n",
       "      <td>True</td>\n",
       "      <td>1</td>\n",
       "      <td>DL7C</td>\n",
       "      <td>2018 Hyundai Verna 1.6 VTVT SX</td>\n",
       "      <td>0</td>\n",
       "      <td>0</td>\n",
       "    </tr>\n",
       "    <tr>\n",
       "      <th>2</th>\n",
       "      <td>Tata</td>\n",
       "      <td>Harrier XT PLUS 2.0L KRYOTEC DARK EDITON</td>\n",
       "      <td>1</td>\n",
       "      <td>2022.0</td>\n",
       "      <td>Diesel</td>\n",
       "      <td>1956.0</td>\n",
       "      <td>27990.0</td>\n",
       "      <td>1489000</td>\n",
       "      <td>28349.0</td>\n",
       "      <td>True</td>\n",
       "      <td>1</td>\n",
       "      <td>HR29</td>\n",
       "      <td>2022 Tata Harrier XT PLUS 2.0L KRYOTEC DARK ED...</td>\n",
       "      <td>0</td>\n",
       "      <td>0</td>\n",
       "    </tr>\n",
       "    <tr>\n",
       "      <th>3</th>\n",
       "      <td>Honda</td>\n",
       "      <td>City 1.5L I-VTE V CVT</td>\n",
       "      <td>1</td>\n",
       "      <td>2023.0</td>\n",
       "      <td>Petrol</td>\n",
       "      <td>1498.0</td>\n",
       "      <td>5061.0</td>\n",
       "      <td>1227000</td>\n",
       "      <td>23355.0</td>\n",
       "      <td>True</td>\n",
       "      <td>1</td>\n",
       "      <td>DL4C</td>\n",
       "      <td>2023 Honda City 1.5L I-VTE V CVT</td>\n",
       "      <td>0</td>\n",
       "      <td>0</td>\n",
       "    </tr>\n",
       "    <tr>\n",
       "      <th>4</th>\n",
       "      <td>Ford</td>\n",
       "      <td>Ecosport TITANIUM 1.5L DIESEL</td>\n",
       "      <td>1</td>\n",
       "      <td>2021.0</td>\n",
       "      <td>Diesel</td>\n",
       "      <td>1498.0</td>\n",
       "      <td>23480.0</td>\n",
       "      <td>887000</td>\n",
       "      <td>16883.0</td>\n",
       "      <td>True</td>\n",
       "      <td>1</td>\n",
       "      <td>UP14</td>\n",
       "      <td>2021 Ford Ecosport TITANIUM 1.5L DIESEL</td>\n",
       "      <td>0</td>\n",
       "      <td>0</td>\n",
       "    </tr>\n",
       "  </tbody>\n",
       "</table>\n",
       "</div>"
      ],
      "text/plain": [
       "      brand                                     model  transmission  \\\n",
       "0  Mahindra              Thar LX D 4WD MT CONVERTIBLE             1   \n",
       "1   Hyundai                         Verna 1.6 VTVT SX             1   \n",
       "2      Tata  Harrier XT PLUS 2.0L KRYOTEC DARK EDITON             1   \n",
       "3     Honda                     City 1.5L I-VTE V CVT             1   \n",
       "4      Ford             Ecosport TITANIUM 1.5L DIESEL             1   \n",
       "\n",
       "   make_year fuel_type  engine_capacity(CC)  km_driven    price  overall_cost  \\\n",
       "0     2020.0    Diesel               2184.0    11003.0  1231000       23431.0   \n",
       "1     2018.0    Petrol               1591.0    66936.0   786000       15359.0   \n",
       "2     2022.0    Diesel               1956.0    27990.0  1489000       28349.0   \n",
       "3     2023.0    Petrol               1498.0     5061.0  1227000       23355.0   \n",
       "4     2021.0    Diesel               1498.0    23480.0   887000       16883.0   \n",
       "\n",
       "  has_insurance  spare_key reg_number  \\\n",
       "0          True          1       HR26   \n",
       "1          True          1       DL7C   \n",
       "2          True          1       HR29   \n",
       "3          True          1       DL4C   \n",
       "4          True          1       UP14   \n",
       "\n",
       "                                               title  ownership_2nd owner  \\\n",
       "0         2020 Mahindra Thar LX D 4WD MT CONVERTIBLE                    0   \n",
       "1                     2018 Hyundai Verna 1.6 VTVT SX                    0   \n",
       "2  2022 Tata Harrier XT PLUS 2.0L KRYOTEC DARK ED...                    0   \n",
       "3                   2023 Honda City 1.5L I-VTE V CVT                    0   \n",
       "4            2021 Ford Ecosport TITANIUM 1.5L DIESEL                    0   \n",
       "\n",
       "   ownership_3rd owner  \n",
       "0                    0  \n",
       "1                    0  \n",
       "2                    0  \n",
       "3                    0  \n",
       "4                    0  "
      ]
     },
     "execution_count": 26,
     "metadata": {},
     "output_type": "execute_result"
    }
   ],
   "source": [
    "df.head()"
   ]
  },
  {
   "cell_type": "code",
   "execution_count": null,
   "metadata": {},
   "outputs": [],
   "source": []
  },
  {
   "cell_type": "code",
   "execution_count": 27,
   "metadata": {},
   "outputs": [],
   "source": [
    "df = pd.get_dummies(df, columns=['fuel_type'], drop_first=True)"
   ]
  },
  {
   "cell_type": "code",
   "execution_count": 28,
   "metadata": {},
   "outputs": [
    {
     "data": {
      "text/html": [
       "<div>\n",
       "<style scoped>\n",
       "    .dataframe tbody tr th:only-of-type {\n",
       "        vertical-align: middle;\n",
       "    }\n",
       "\n",
       "    .dataframe tbody tr th {\n",
       "        vertical-align: top;\n",
       "    }\n",
       "\n",
       "    .dataframe thead th {\n",
       "        text-align: right;\n",
       "    }\n",
       "</style>\n",
       "<table border=\"1\" class=\"dataframe\">\n",
       "  <thead>\n",
       "    <tr style=\"text-align: right;\">\n",
       "      <th></th>\n",
       "      <th>brand</th>\n",
       "      <th>model</th>\n",
       "      <th>transmission</th>\n",
       "      <th>make_year</th>\n",
       "      <th>engine_capacity(CC)</th>\n",
       "      <th>km_driven</th>\n",
       "      <th>price</th>\n",
       "      <th>overall_cost</th>\n",
       "      <th>has_insurance</th>\n",
       "      <th>spare_key</th>\n",
       "      <th>reg_number</th>\n",
       "      <th>title</th>\n",
       "      <th>ownership_2nd owner</th>\n",
       "      <th>ownership_3rd owner</th>\n",
       "      <th>fuel_type_Diesel</th>\n",
       "      <th>fuel_type_Electric</th>\n",
       "      <th>fuel_type_Petrol</th>\n",
       "    </tr>\n",
       "  </thead>\n",
       "  <tbody>\n",
       "    <tr>\n",
       "      <th>0</th>\n",
       "      <td>Mahindra</td>\n",
       "      <td>Thar LX D 4WD MT CONVERTIBLE</td>\n",
       "      <td>1</td>\n",
       "      <td>2020.0</td>\n",
       "      <td>2184.0</td>\n",
       "      <td>11003.0</td>\n",
       "      <td>1231000</td>\n",
       "      <td>23431.0</td>\n",
       "      <td>True</td>\n",
       "      <td>1</td>\n",
       "      <td>HR26</td>\n",
       "      <td>2020 Mahindra Thar LX D 4WD MT CONVERTIBLE</td>\n",
       "      <td>0</td>\n",
       "      <td>0</td>\n",
       "      <td>1</td>\n",
       "      <td>0</td>\n",
       "      <td>0</td>\n",
       "    </tr>\n",
       "    <tr>\n",
       "      <th>1</th>\n",
       "      <td>Hyundai</td>\n",
       "      <td>Verna 1.6 VTVT SX</td>\n",
       "      <td>1</td>\n",
       "      <td>2018.0</td>\n",
       "      <td>1591.0</td>\n",
       "      <td>66936.0</td>\n",
       "      <td>786000</td>\n",
       "      <td>15359.0</td>\n",
       "      <td>True</td>\n",
       "      <td>1</td>\n",
       "      <td>DL7C</td>\n",
       "      <td>2018 Hyundai Verna 1.6 VTVT SX</td>\n",
       "      <td>0</td>\n",
       "      <td>0</td>\n",
       "      <td>0</td>\n",
       "      <td>0</td>\n",
       "      <td>1</td>\n",
       "    </tr>\n",
       "    <tr>\n",
       "      <th>2</th>\n",
       "      <td>Tata</td>\n",
       "      <td>Harrier XT PLUS 2.0L KRYOTEC DARK EDITON</td>\n",
       "      <td>1</td>\n",
       "      <td>2022.0</td>\n",
       "      <td>1956.0</td>\n",
       "      <td>27990.0</td>\n",
       "      <td>1489000</td>\n",
       "      <td>28349.0</td>\n",
       "      <td>True</td>\n",
       "      <td>1</td>\n",
       "      <td>HR29</td>\n",
       "      <td>2022 Tata Harrier XT PLUS 2.0L KRYOTEC DARK ED...</td>\n",
       "      <td>0</td>\n",
       "      <td>0</td>\n",
       "      <td>1</td>\n",
       "      <td>0</td>\n",
       "      <td>0</td>\n",
       "    </tr>\n",
       "  </tbody>\n",
       "</table>\n",
       "</div>"
      ],
      "text/plain": [
       "      brand                                     model  transmission  \\\n",
       "0  Mahindra              Thar LX D 4WD MT CONVERTIBLE             1   \n",
       "1   Hyundai                         Verna 1.6 VTVT SX             1   \n",
       "2      Tata  Harrier XT PLUS 2.0L KRYOTEC DARK EDITON             1   \n",
       "\n",
       "   make_year  engine_capacity(CC)  km_driven    price  overall_cost  \\\n",
       "0     2020.0               2184.0    11003.0  1231000       23431.0   \n",
       "1     2018.0               1591.0    66936.0   786000       15359.0   \n",
       "2     2022.0               1956.0    27990.0  1489000       28349.0   \n",
       "\n",
       "  has_insurance  spare_key reg_number  \\\n",
       "0          True          1       HR26   \n",
       "1          True          1       DL7C   \n",
       "2          True          1       HR29   \n",
       "\n",
       "                                               title  ownership_2nd owner  \\\n",
       "0         2020 Mahindra Thar LX D 4WD MT CONVERTIBLE                    0   \n",
       "1                     2018 Hyundai Verna 1.6 VTVT SX                    0   \n",
       "2  2022 Tata Harrier XT PLUS 2.0L KRYOTEC DARK ED...                    0   \n",
       "\n",
       "   ownership_3rd owner  fuel_type_Diesel  fuel_type_Electric  fuel_type_Petrol  \n",
       "0                    0                 1                   0                 0  \n",
       "1                    0                 0                   0                 1  \n",
       "2                    0                 1                   0                 0  "
      ]
     },
     "execution_count": 28,
     "metadata": {},
     "output_type": "execute_result"
    }
   ],
   "source": [
    "df.head(3)"
   ]
  },
  {
   "cell_type": "code",
   "execution_count": 29,
   "metadata": {},
   "outputs": [
    {
     "name": "stdout",
     "output_type": "stream",
     "text": [
      "<class 'pandas.core.frame.DataFrame'>\n",
      "Int64Index: 2805 entries, 0 to 2804\n",
      "Data columns (total 17 columns):\n",
      " #   Column               Non-Null Count  Dtype  \n",
      "---  ------               --------------  -----  \n",
      " 0   brand                2805 non-null   object \n",
      " 1   model                2805 non-null   object \n",
      " 2   transmission         2805 non-null   int64  \n",
      " 3   make_year            2805 non-null   float64\n",
      " 4   engine_capacity(CC)  2805 non-null   float64\n",
      " 5   km_driven            2805 non-null   float64\n",
      " 6   price                2805 non-null   int64  \n",
      " 7   overall_cost         2805 non-null   float64\n",
      " 8   has_insurance        2805 non-null   object \n",
      " 9   spare_key            2805 non-null   int64  \n",
      " 10  reg_number           2805 non-null   object \n",
      " 11  title                2805 non-null   object \n",
      " 12  ownership_2nd owner  2805 non-null   uint8  \n",
      " 13  ownership_3rd owner  2805 non-null   uint8  \n",
      " 14  fuel_type_Diesel     2805 non-null   uint8  \n",
      " 15  fuel_type_Electric   2805 non-null   uint8  \n",
      " 16  fuel_type_Petrol     2805 non-null   uint8  \n",
      "dtypes: float64(4), int64(3), object(5), uint8(5)\n",
      "memory usage: 298.6+ KB\n"
     ]
    }
   ],
   "source": [
    "df.info()"
   ]
  },
  {
   "cell_type": "code",
   "execution_count": 30,
   "metadata": {},
   "outputs": [],
   "source": [
    "#most of the conversion is done lets try machine learning models and some basic visualizations to understand data"
   ]
  },
  {
   "cell_type": "code",
   "execution_count": 31,
   "metadata": {},
   "outputs": [
    {
     "data": {
      "text/plain": [
       "<seaborn.axisgrid.JointGrid at 0xfedc048>"
      ]
     },
     "execution_count": 31,
     "metadata": {},
     "output_type": "execute_result"
    },
    {
     "data": {
      "image/png": "[encoded data removed]",
      "text/plain": [
       "<Figure size 432x432 with 3 Axes>"
      ]
     },
     "metadata": {
      "needs_background": "light"
     },
     "output_type": "display_data"
    }
   ],
   "source": [
    "sns.jointplot(y='price',x='km_driven',data=df,kind='kde',color='red')"
   ]
  },
  {
   "cell_type": "code",
   "execution_count": 32,
   "metadata": {},
   "outputs": [
    {
     "data": {
      "text/plain": [
       "<seaborn.axisgrid.JointGrid at 0x102bbcf8>"
      ]
     },
     "execution_count": 32,
     "metadata": {},
     "output_type": "execute_result"
    },
    {
     "data": {
      "image/png": "[encoded data removed]",
      "text/plain": [
       "<Figure size 432x432 with 3 Axes>"
      ]
     },
     "metadata": {
      "needs_background": "light"
     },
     "output_type": "display_data"
    }
   ],
   "source": [
    "sns.jointplot(x='km_driven',y='price',data=df,kind='kde',color='blue')"
   ]
  },
  {
   "cell_type": "code",
   "execution_count": 33,
   "metadata": {},
   "outputs": [],
   "source": [
    "#most of them price around 500000"
   ]
  },
  {
   "cell_type": "code",
   "execution_count": 34,
   "metadata": {},
   "outputs": [],
   "source": [
    "from sklearn.model_selection import train_test_split"
   ]
  },
  {
   "cell_type": "code",
   "execution_count": 35,
   "metadata": {},
   "outputs": [
    {
     "data": {
      "text/plain": [
       "Index(['brand', 'model', 'transmission', 'make_year', 'engine_capacity(CC)',\n",
       "       'km_driven', 'price', 'overall_cost', 'has_insurance', 'spare_key',\n",
       "       'reg_number', 'title', 'ownership_2nd owner', 'ownership_3rd owner',\n",
       "       'fuel_type_Diesel', 'fuel_type_Electric', 'fuel_type_Petrol'],\n",
       "      dtype='object')"
      ]
     },
     "execution_count": 35,
     "metadata": {},
     "output_type": "execute_result"
    }
   ],
   "source": [
    "df.columns"
   ]
  },
  {
   "cell_type": "code",
   "execution_count": 36,
   "metadata": {},
   "outputs": [],
   "source": [
    "X=df[['transmission', 'make_year', 'engine_capacity(CC)','km_driven', 'overall_cost','spare_key',\n",
    "      'ownership_2nd owner', 'ownership_3rd owner',\n",
    "      'fuel_type_Diesel', 'fuel_type_Electric', 'fuel_type_Petrol']]"
   ]
  },
  {
   "cell_type": "code",
   "execution_count": 37,
   "metadata": {},
   "outputs": [],
   "source": [
    "y=df['price']"
   ]
  },
  {
   "cell_type": "code",
   "execution_count": 38,
   "metadata": {},
   "outputs": [],
   "source": [
    "X_train, X_test, y_train, y_test = train_test_split(X, y, test_size=0.3, random_state=101)"
   ]
  },
  {
   "cell_type": "code",
   "execution_count": 63,
   "metadata": {},
   "outputs": [],
   "source": [
    "from sklearn.linear_model import LinearRegression"
   ]
  },
  {
   "cell_type": "code",
   "execution_count": 40,
   "metadata": {},
   "outputs": [],
   "source": [
    "lm=LinearRegression()"
   ]
  },
  {
   "cell_type": "code",
   "execution_count": 41,
   "metadata": {},
   "outputs": [
    {
     "data": {
      "text/plain": [
       "LinearRegression(copy_X=True, fit_intercept=True, n_jobs=None,\n",
       "         normalize=False)"
      ]
     },
     "execution_count": 41,
     "metadata": {},
     "output_type": "execute_result"
    }
   ],
   "source": [
    "lm.fit(X_train,y_train)"
   ]
  },
  {
   "cell_type": "code",
   "execution_count": 42,
   "metadata": {},
   "outputs": [],
   "source": [
    "predictions=lm.predict(X_test)"
   ]
  },
  {
   "cell_type": "code",
   "execution_count": 43,
   "metadata": {},
   "outputs": [
    {
     "data": {
      "text/plain": [
       "-47951864.39431637"
      ]
     },
     "execution_count": 43,
     "metadata": {},
     "output_type": "execute_result"
    }
   ],
   "source": [
    "lm.intercept_"
   ]
  },
  {
   "cell_type": "code",
   "execution_count": 44,
   "metadata": {},
   "outputs": [],
   "source": [
    "coeff=lm.coef_"
   ]
  },
  {
   "cell_type": "code",
   "execution_count": 45,
   "metadata": {},
   "outputs": [],
   "source": [
    "df_coef=pd.DataFrame(coeff,X.columns,columns=['Coefficient'])"
   ]
  },
  {
   "cell_type": "code",
   "execution_count": 46,
   "metadata": {},
   "outputs": [
    {
     "data": {
      "text/html": [
       "<div>\n",
       "<style scoped>\n",
       "    .dataframe tbody tr th:only-of-type {\n",
       "        vertical-align: middle;\n",
       "    }\n",
       "\n",
       "    .dataframe tbody tr th {\n",
       "        vertical-align: top;\n",
       "    }\n",
       "\n",
       "    .dataframe thead th {\n",
       "        text-align: right;\n",
       "    }\n",
       "</style>\n",
       "<table border=\"1\" class=\"dataframe\">\n",
       "  <thead>\n",
       "    <tr style=\"text-align: right;\">\n",
       "      <th></th>\n",
       "      <th>Coefficient</th>\n",
       "    </tr>\n",
       "  </thead>\n",
       "  <tbody>\n",
       "    <tr>\n",
       "      <th>transmission</th>\n",
       "      <td>0.000000e+00</td>\n",
       "    </tr>\n",
       "    <tr>\n",
       "      <th>make_year</th>\n",
       "      <td>2.369710e+04</td>\n",
       "    </tr>\n",
       "    <tr>\n",
       "      <th>engine_capacity(CC)</th>\n",
       "      <td>1.002188e+02</td>\n",
       "    </tr>\n",
       "    <tr>\n",
       "      <th>km_driven</th>\n",
       "      <td>1.135471e-01</td>\n",
       "    </tr>\n",
       "    <tr>\n",
       "      <th>overall_cost</th>\n",
       "      <td>4.535497e+01</td>\n",
       "    </tr>\n",
       "    <tr>\n",
       "      <th>spare_key</th>\n",
       "      <td>3.637979e-12</td>\n",
       "    </tr>\n",
       "    <tr>\n",
       "      <th>ownership_2nd owner</th>\n",
       "      <td>-1.894707e+03</td>\n",
       "    </tr>\n",
       "    <tr>\n",
       "      <th>ownership_3rd owner</th>\n",
       "      <td>7.789201e+03</td>\n",
       "    </tr>\n",
       "    <tr>\n",
       "      <th>fuel_type_Diesel</th>\n",
       "      <td>2.085883e+04</td>\n",
       "    </tr>\n",
       "    <tr>\n",
       "      <th>fuel_type_Electric</th>\n",
       "      <td>7.386675e+04</td>\n",
       "    </tr>\n",
       "    <tr>\n",
       "      <th>fuel_type_Petrol</th>\n",
       "      <td>6.092269e+04</td>\n",
       "    </tr>\n",
       "  </tbody>\n",
       "</table>\n",
       "</div>"
      ],
      "text/plain": [
       "                      Coefficient\n",
       "transmission         0.000000e+00\n",
       "make_year            2.369710e+04\n",
       "engine_capacity(CC)  1.002188e+02\n",
       "km_driven            1.135471e-01\n",
       "overall_cost         4.535497e+01\n",
       "spare_key            3.637979e-12\n",
       "ownership_2nd owner -1.894707e+03\n",
       "ownership_3rd owner  7.789201e+03\n",
       "fuel_type_Diesel     2.085883e+04\n",
       "fuel_type_Electric   7.386675e+04\n",
       "fuel_type_Petrol     6.092269e+04"
      ]
     },
     "execution_count": 46,
     "metadata": {},
     "output_type": "execute_result"
    }
   ],
   "source": [
    "df_coef"
   ]
  },
  {
   "cell_type": "code",
   "execution_count": 47,
   "metadata": {},
   "outputs": [
    {
     "data": {
      "text/plain": [
       "<matplotlib.collections.PathCollection at 0x11408be0>"
      ]
     },
     "execution_count": 47,
     "metadata": {},
     "output_type": "execute_result"
    },
    {
     "data": {
      "image/png": "[encoded data removed]",
      "text/plain": [
       "<Figure size 432x288 with 1 Axes>"
      ]
     },
     "metadata": {
      "needs_background": "light"
     },
     "output_type": "display_data"
    }
   ],
   "source": [
    "plt.scatter(y_test,predictions)"
   ]
  },
  {
   "cell_type": "code",
   "execution_count": 48,
   "metadata": {},
   "outputs": [],
   "source": [
    "from sklearn import metrics"
   ]
  },
  {
   "cell_type": "code",
   "execution_count": 49,
   "metadata": {},
   "outputs": [
    {
     "data": {
      "text/plain": [
       "42314.93457282097"
      ]
     },
     "execution_count": 49,
     "metadata": {},
     "output_type": "execute_result"
    }
   ],
   "source": [
    "metrics.mean_absolute_error(y_test,predictions)"
   ]
  },
  {
   "cell_type": "code",
   "execution_count": 50,
   "metadata": {},
   "outputs": [
    {
     "data": {
      "text/plain": [
       "3471056447.325158"
      ]
     },
     "execution_count": 50,
     "metadata": {},
     "output_type": "execute_result"
    }
   ],
   "source": [
    "metrics.mean_squared_error(y_test,predictions)"
   ]
  },
  {
   "cell_type": "code",
   "execution_count": 51,
   "metadata": {},
   "outputs": [
    {
     "data": {
      "text/plain": [
       "58915.67234043212"
      ]
     },
     "execution_count": 51,
     "metadata": {},
     "output_type": "execute_result"
    }
   ],
   "source": [
    "np.sqrt(metrics.mean_squared_error(y_test,predictions))"
   ]
  },
  {
   "cell_type": "code",
   "execution_count": 52,
   "metadata": {},
   "outputs": [],
   "source": [
    "from sklearn.tree import DecisionTreeClassifier"
   ]
  },
  {
   "cell_type": "code",
   "execution_count": 53,
   "metadata": {},
   "outputs": [],
   "source": [
    "X=df[['make_year', 'engine_capacity(CC)',\n",
    "       'km_driven', 'price', 'overall_cost', 'has_insurance', 'spare_key', 'ownership_2nd owner', 'ownership_3rd owner',\n",
    "       'fuel_type_Diesel', 'fuel_type_Electric', 'fuel_type_Petrol']]\n",
    "Y=df['transmission']"
   ]
  },
  {
   "cell_type": "code",
   "execution_count": 54,
   "metadata": {},
   "outputs": [],
   "source": [
    "X_train, X_test, y_train, y_test = train_test_split(X, y, test_size=0.3, random_state=101)\n",
    "dtree = DecisionTreeClassifier()"
   ]
  },
  {
   "cell_type": "code",
   "execution_count": 55,
   "metadata": {},
   "outputs": [
    {
     "name": "stderr",
     "output_type": "stream",
     "text": [
      "C:\\Users\\AKBAR\\Anaconda\\lib\\site-packages\\sklearn\\tree\\tree.py:149: DeprecationWarning: `np.int` is a deprecated alias for the builtin `int`. To silence this warning, use `int` by itself. Doing this will not modify any behavior and is safe. When replacing `np.int`, you may wish to use e.g. `np.int64` or `np.int32` to specify the precision. If you wish to review your current use, check the release note link for additional information.\n",
      "Deprecated in NumPy 1.20; for more details and guidance: https://numpy.org/devdocs/release/1.20.0-notes.html#deprecations\n",
      "  y_encoded = np.zeros(y.shape, dtype=np.int)\n"
     ]
    },
    {
     "data": {
      "text/plain": [
       "DecisionTreeClassifier(class_weight=None, criterion='gini', max_depth=None,\n",
       "            max_features=None, max_leaf_nodes=None,\n",
       "            min_impurity_decrease=0.0, min_impurity_split=None,\n",
       "            min_samples_leaf=1, min_samples_split=2,\n",
       "            min_weight_fraction_leaf=0.0, presort=False, random_state=None,\n",
       "            splitter='best')"
      ]
     },
     "execution_count": 55,
     "metadata": {},
     "output_type": "execute_result"
    }
   ],
   "source": [
    "dtree.fit(X_train,y_train)"
   ]
  },
  {
   "cell_type": "code",
   "execution_count": 56,
   "metadata": {},
   "outputs": [],
   "source": [
    "pred=dtree.predict(X_test)"
   ]
  },
  {
   "cell_type": "code",
   "execution_count": 57,
   "metadata": {},
   "outputs": [],
   "source": [
    "from sklearn.metrics import classification_report,confusion_matrix"
   ]
  },
  {
   "cell_type": "code",
   "execution_count": 60,
   "metadata": {},
   "outputs": [
    {
     "name": "stdout",
     "output_type": "stream",
     "text": [
      "              precision    recall  f1-score   support\n",
      "\n",
      "      178000       0.00      0.00      0.00         0\n",
      "      184000       0.00      0.00      0.00         1\n",
      "      197000       0.00      0.00      0.00         1\n",
      "      206000       0.00      0.00      0.00         0\n",
      "      209000       1.00      0.50      0.67         2\n",
      "      212000       0.00      0.00      0.00         1\n",
      "      214000       0.00      0.00      0.00         0\n",
      "      216000       1.00      1.00      1.00         1\n",
      "      219000       1.00      1.00      1.00         1\n",
      "      220000       0.00      0.00      0.00         1\n",
      "      222000       0.00      0.00      0.00         0\n",
      "      223000       0.00      0.00      0.00         2\n",
      "      229000       0.00      0.00      0.00         0\n",
      "      231000       0.00      0.00      0.00         2\n",
      "      232000       0.00      0.00      0.00         0\n",
      "      234000       0.00      0.00      0.00         1\n",
      "      236000       0.00      0.00      0.00         1\n",
      "      239000       0.00      0.00      0.00         0\n",
      "      240000       0.00      0.00      0.00         1\n",
      "      244000       1.00      1.00      1.00         1\n",
      "      245000       1.00      1.00      1.00         1\n",
      "      246000       1.00      1.00      1.00         1\n",
      "      249000       0.00      0.00      0.00         0\n",
      "      250000       0.00      0.00      0.00         1\n",
      "      251000       0.25      1.00      0.40         1\n",
      "      252000       0.00      0.00      0.00         2\n",
      "      254000       0.00      0.00      0.00         1\n",
      "      255000       0.00      0.00      0.00         2\n",
      "      256000       0.33      1.00      0.50         1\n",
      "      259000       0.00      0.00      0.00         0\n",
      "      261000       0.00      0.00      0.00         2\n",
      "      262000       1.00      1.00      1.00         2\n",
      "      268000       1.00      1.00      1.00         1\n",
      "      269000       1.00      1.00      1.00         1\n",
      "      279000       1.00      1.00      1.00         1\n",
      "      280000       0.25      1.00      0.40         1\n",
      "      281000       0.00      0.00      0.00         3\n",
      "      285000       0.00      0.00      0.00         1\n",
      "      286000       0.00      0.00      0.00         0\n",
      "      288000       0.00      0.00      0.00         3\n",
      "      289000       0.00      0.00      0.00         0\n",
      "      290000       0.00      0.00      0.00         2\n",
      "      291000       1.00      1.00      1.00         1\n",
      "      292000       1.00      1.00      1.00         1\n",
      "      293000       1.00      1.00      1.00         1\n",
      "      298000       0.00      0.00      0.00         0\n",
      "      300000       0.00      0.00      0.00         1\n",
      "      301000       1.00      0.50      0.67         2\n",
      "      303000       0.00      0.00      0.00         0\n",
      "      304000       0.00      0.00      0.00         1\n",
      "      305000       0.00      0.00      0.00         0\n",
      "      306000       0.00      0.00      0.00         2\n",
      "      307000       0.00      0.00      0.00         0\n",
      "      308000       1.00      1.00      1.00         1\n",
      "      310000       1.00      1.00      1.00         2\n",
      "      311000       1.00      1.00      1.00         1\n",
      "      314000       1.00      1.00      1.00         1\n",
      "      315000       0.00      0.00      0.00         0\n",
      "      316000       0.00      0.00      0.00         1\n",
      "      319000       1.00      1.00      1.00         2\n",
      "      322000       1.00      1.00      1.00         1\n",
      "      324000       1.00      1.00      1.00         1\n",
      "      326000       0.00      0.00      0.00         1\n",
      "      327000       0.00      0.00      0.00         3\n",
      "      328000       0.00      0.00      0.00         1\n",
      "      330000       0.00      0.00      0.00         0\n",
      "      331000       1.00      1.00      1.00         1\n",
      "      332000       0.50      1.00      0.67         1\n",
      "      333000       0.00      0.00      0.00         1\n",
      "      336000       0.50      1.00      0.67         1\n",
      "      337000       0.00      0.00      0.00         1\n",
      "      338000       1.00      1.00      1.00         2\n",
      "      340000       0.00      0.00      0.00         1\n",
      "      341000       0.25      1.00      0.40         1\n",
      "      342000       0.00      0.00      0.00         2\n",
      "      343000       1.00      1.00      1.00         1\n",
      "      344000       1.00      0.67      0.80         3\n",
      "      345000       0.00      0.00      0.00         0\n",
      "      346000       0.00      0.00      0.00         1\n",
      "      347000       0.00      0.00      0.00         2\n",
      "      348000       0.00      0.00      0.00         2\n",
      "      349000       0.00      0.00      0.00         1\n",
      "      350000       0.25      0.67      0.36         3\n",
      "      351000       0.40      1.00      0.57         2\n",
      "      352000       0.00      0.00      0.00         3\n",
      "      353000       0.33      1.00      0.50         1\n",
      "      354000       0.00      0.00      0.00         2\n",
      "      355000       0.00      0.00      0.00         2\n",
      "      356000       0.33      1.00      0.50         1\n",
      "      357000       1.00      1.00      1.00         1\n",
      "      358000       0.00      0.00      0.00         2\n",
      "      359000       0.00      0.00      0.00         0\n",
      "      360000       1.00      1.00      1.00         1\n",
      "      361000       1.00      1.00      1.00         2\n",
      "      363000       1.00      1.00      1.00         1\n",
      "      364000       1.00      1.00      1.00         2\n",
      "      366000       0.00      0.00      0.00         2\n",
      "      367000       0.50      0.50      0.50         2\n",
      "      368000       0.00      0.00      0.00         0\n",
      "      369000       0.00      0.00      0.00         1\n",
      "      370000       0.00      0.00      0.00         2\n",
      "      371000       0.00      0.00      0.00         0\n",
      "      372000       1.00      1.00      1.00         1\n",
      "      374000       1.00      1.00      1.00         4\n",
      "      375000       1.00      1.00      1.00         1\n",
      "      376000       0.00      0.00      0.00         1\n",
      "      377000       0.00      0.00      0.00         2\n",
      "      378000       0.00      0.00      0.00         0\n",
      "      379000       1.00      1.00      1.00         2\n",
      "      380000       1.00      1.00      1.00         1\n",
      "      381000       1.00      1.00      1.00         4\n",
      "      382000       1.00      1.00      1.00         1\n",
      "      384000       1.00      1.00      1.00         1\n",
      "      385000       1.00      0.33      0.50         3\n",
      "      386000       0.33      1.00      0.50         1\n",
      "      387000       1.00      1.00      1.00         2\n",
      "      388000       1.00      1.00      1.00         3\n",
      "      389000       1.00      1.00      1.00         3\n",
      "      391000       1.00      1.00      1.00         1\n",
      "      392000       1.00      1.00      1.00         2\n",
      "      394000       1.00      1.00      1.00         2\n",
      "      395000       1.00      1.00      1.00         2\n",
      "      396000       1.00      1.00      1.00         2\n",
      "      397000       1.00      1.00      1.00         4\n",
      "      399000       1.00      1.00      1.00         1\n",
      "      400000       1.00      1.00      1.00         1\n",
      "      403000       1.00      1.00      1.00         3\n",
      "      405000       1.00      0.67      0.80         3\n",
      "      406000       0.75      1.00      0.86         3\n",
      "      407000       1.00      1.00      1.00         3\n",
      "      408000       1.00      1.00      1.00         2\n",
      "      409000       1.00      1.00      1.00         1\n",
      "      410000       1.00      1.00      1.00         1\n",
      "      411000       1.00      1.00      1.00         1\n",
      "      412000       1.00      1.00      1.00         2\n",
      "      414000       1.00      1.00      1.00         1\n",
      "      416000       1.00      1.00      1.00         2\n",
      "      418000       1.00      1.00      1.00         1\n",
      "      419000       1.00      1.00      1.00         1\n",
      "      420000       1.00      0.50      0.67         2\n",
      "      421000       0.00      0.00      0.00         0\n",
      "      423000       1.00      1.00      1.00         1\n",
      "      424000       1.00      1.00      1.00         1\n",
      "      425000       0.00      0.00      0.00         2\n",
      "      426000       0.50      1.00      0.67         1\n",
      "      427000       0.00      0.00      0.00         1\n",
      "      428000       0.67      1.00      0.80         2\n",
      "      429000       1.00      0.50      0.67         2\n",
      "      430000       0.67      0.67      0.67         3\n",
      "      431000       0.33      0.50      0.40         2\n",
      "      432000       1.00      0.50      0.67         2\n",
      "      433000       0.50      1.00      0.67         1\n",
      "      435000       1.00      0.50      0.67         2\n",
      "      436000       0.67      1.00      0.80         2\n",
      "      437000       1.00      1.00      1.00         1\n",
      "      438000       1.00      1.00      1.00         2\n",
      "      439000       1.00      1.00      1.00         2\n",
      "      442000       1.00      1.00      1.00         1\n",
      "      443000       1.00      1.00      1.00         4\n",
      "      444000       1.00      1.00      1.00         1\n",
      "      445000       1.00      1.00      1.00         2\n",
      "      447000       1.00      1.00      1.00         1\n",
      "      448000       1.00      1.00      1.00         1\n",
      "      449000       1.00      1.00      1.00         1\n",
      "      450000       1.00      1.00      1.00         1\n",
      "      452000       1.00      1.00      1.00         1\n",
      "      454000       1.00      1.00      1.00         1\n",
      "      455000       1.00      1.00      1.00         1\n",
      "      457000       1.00      1.00      1.00         3\n",
      "      459000       1.00      1.00      1.00         2\n",
      "      460000       1.00      1.00      1.00         1\n",
      "      462000       1.00      1.00      1.00         1\n",
      "      463000       1.00      1.00      1.00         2\n",
      "      465000       1.00      1.00      1.00         1\n",
      "      466000       1.00      1.00      1.00         3\n",
      "      468000       1.00      1.00      1.00         1\n",
      "      469000       0.00      0.00      0.00         0\n",
      "      470000       0.00      0.00      0.00         1\n",
      "      471000       1.00      1.00      1.00         2\n",
      "      472000       1.00      1.00      1.00         1\n",
      "      474000       1.00      1.00      1.00         2\n",
      "      475000       1.00      1.00      1.00         3\n",
      "      476000       1.00      1.00      1.00         1\n",
      "      477000       1.00      1.00      1.00         2\n",
      "      478000       1.00      1.00      1.00         3\n",
      "      479000       1.00      1.00      1.00         1\n",
      "      480000       1.00      1.00      1.00         2\n",
      "      482000       1.00      1.00      1.00         1\n",
      "      483000       1.00      1.00      1.00         4\n",
      "      484000       1.00      1.00      1.00         2\n",
      "      486000       1.00      1.00      1.00         1\n",
      "      487000       0.00      0.00      0.00         1\n",
      "      488000       0.75      1.00      0.86         3\n",
      "      489000       1.00      1.00      1.00         4\n",
      "      490000       1.00      1.00      1.00         1\n",
      "      491000       1.00      1.00      1.00         2\n",
      "      492000       1.00      1.00      1.00         2\n",
      "      494000       1.00      1.00      1.00         2\n",
      "      495000       1.00      1.00      1.00         2\n",
      "      497000       1.00      1.00      1.00         1\n",
      "      498000       0.00      0.00      0.00         0\n",
      "      499000       0.00      0.00      0.00         1\n",
      "      500000       0.50      1.00      0.67         1\n",
      "      501000       0.00      0.00      0.00         1\n",
      "      502000       1.00      0.50      0.67         2\n",
      "      503000       0.50      1.00      0.67         1\n",
      "      504000       1.00      1.00      1.00         3\n",
      "      505000       1.00      1.00      1.00         1\n",
      "      508000       1.00      1.00      1.00         4\n",
      "      509000       1.00      1.00      1.00         4\n",
      "      512000       1.00      1.00      1.00         1\n",
      "      517000       1.00      1.00      1.00         1\n",
      "      518000       1.00      1.00      1.00         1\n",
      "      520000       1.00      1.00      1.00         1\n",
      "      521000       1.00      1.00      1.00         3\n",
      "      522000       1.00      1.00      1.00         3\n",
      "      523000       1.00      1.00      1.00         1\n",
      "      524000       1.00      1.00      1.00         1\n",
      "      525000       1.00      1.00      1.00         1\n",
      "      528000       1.00      1.00      1.00         2\n",
      "      531000       1.00      1.00      1.00         1\n",
      "      532000       1.00      1.00      1.00         1\n",
      "      534000       1.00      1.00      1.00         3\n",
      "      535000       1.00      1.00      1.00         1\n",
      "      536000       1.00      1.00      1.00         3\n",
      "      537000       1.00      1.00      1.00         2\n",
      "      538000       1.00      1.00      1.00         4\n",
      "      539000       1.00      1.00      1.00         1\n",
      "      540000       1.00      1.00      1.00         1\n",
      "      541000       1.00      1.00      1.00         1\n",
      "      542000       0.00      0.00      0.00         1\n",
      "      543000       0.75      1.00      0.86         3\n",
      "      544000       1.00      1.00      1.00         2\n",
      "      545000       1.00      1.00      1.00         2\n",
      "      546000       0.00      0.00      0.00         0\n",
      "      548000       0.00      0.00      0.00         1\n",
      "      549000       1.00      1.00      1.00         1\n",
      "      550000       1.00      1.00      1.00         2\n",
      "      552000       1.00      1.00      1.00         2\n",
      "      553000       1.00      1.00      1.00         3\n",
      "      554000       1.00      1.00      1.00         1\n",
      "      555000       1.00      1.00      1.00         1\n",
      "      559000       1.00      1.00      1.00         1\n",
      "      560000       1.00      1.00      1.00         1\n",
      "      561000       1.00      1.00      1.00         2\n",
      "      562000       1.00      1.00      1.00         4\n",
      "      563000       1.00      1.00      1.00         4\n",
      "      564000       1.00      1.00      1.00         2\n",
      "      565000       1.00      1.00      1.00         4\n",
      "      566000       0.00      0.00      0.00         3\n",
      "      567000       0.25      0.50      0.33         2\n",
      "      568000       1.00      1.00      1.00         1\n",
      "      569000       1.00      1.00      1.00         2\n",
      "      570000       1.00      1.00      1.00         1\n",
      "      571000       1.00      1.00      1.00         2\n",
      "      572000       1.00      1.00      1.00         3\n",
      "      573000       1.00      1.00      1.00         2\n",
      "      574000       1.00      1.00      1.00         4\n",
      "      575000       1.00      1.00      1.00         2\n",
      "      578000       1.00      1.00      1.00         2\n",
      "      583000       1.00      1.00      1.00         2\n",
      "      584000       1.00      1.00      1.00         1\n",
      "      585000       0.00      0.00      0.00         0\n",
      "      586000       0.00      0.00      0.00         2\n",
      "      587000       1.00      1.00      1.00         2\n",
      "      588000       1.00      1.00      1.00         2\n",
      "      589000       1.00      1.00      1.00         1\n",
      "      590000       1.00      1.00      1.00         2\n",
      "      592000       1.00      1.00      1.00         1\n",
      "      593000       1.00      1.00      1.00         1\n",
      "      594000       0.33      1.00      0.50         1\n",
      "      595000       0.00      0.00      0.00         2\n",
      "      596000       1.00      1.00      1.00         2\n",
      "      597000       1.00      0.50      0.67         2\n",
      "      598000       0.00      0.00      0.00         0\n",
      "      602000       1.00      1.00      1.00         2\n",
      "      603000       0.67      1.00      0.80         2\n",
      "      604000       0.00      0.00      0.00         1\n",
      "      606000       1.00      1.00      1.00         1\n",
      "      607000       1.00      1.00      1.00         1\n",
      "      609000       1.00      0.67      0.80         3\n",
      "      610000       0.83      1.00      0.91         5\n",
      "      611000       0.33      1.00      0.50         1\n",
      "      612000       1.00      0.33      0.50         3\n",
      "      615000       1.00      1.00      1.00         1\n",
      "      616000       1.00      1.00      1.00         2\n",
      "      619000       1.00      1.00      1.00         1\n",
      "      620000       1.00      1.00      1.00         2\n",
      "      621000       0.40      1.00      0.57         2\n",
      "      622000       0.00      0.00      0.00         3\n",
      "      623000       1.00      1.00      1.00         1\n",
      "      624000       1.00      1.00      1.00         3\n",
      "      626000       1.00      1.00      1.00         2\n",
      "      628000       1.00      1.00      1.00         1\n",
      "      629000       1.00      1.00      1.00         1\n",
      "      630000       1.00      1.00      1.00         5\n",
      "      631000       1.00      1.00      1.00         1\n",
      "      632000       0.33      1.00      0.50         1\n",
      "      633000       0.00      0.00      0.00         2\n",
      "      634000       1.00      1.00      1.00         1\n",
      "      637000       1.00      1.00      1.00         2\n",
      "      638000       1.00      1.00      1.00         2\n",
      "      639000       1.00      1.00      1.00         1\n",
      "      640000       1.00      1.00      1.00         2\n",
      "      641000       0.50      0.50      0.50         2\n",
      "      642000       0.00      0.00      0.00         1\n",
      "      644000       1.00      1.00      1.00         3\n",
      "      646000       1.00      1.00      1.00         1\n",
      "      647000       1.00      1.00      1.00         2\n",
      "      648000       1.00      1.00      1.00         1\n",
      "      649000       1.00      1.00      1.00         2\n",
      "      650000       1.00      1.00      1.00         2\n",
      "      651000       0.00      0.00      0.00         0\n",
      "      652000       1.00      0.67      0.80         3\n",
      "      653000       1.00      1.00      1.00         1\n",
      "      654000       1.00      1.00      1.00         1\n",
      "      655000       0.00      0.00      0.00         1\n",
      "      656000       0.00      0.00      0.00         0\n",
      "      657000       1.00      1.00      1.00         1\n",
      "      658000       1.00      1.00      1.00         1\n",
      "      659000       1.00      1.00      1.00         1\n",
      "      660000       1.00      1.00      1.00         1\n",
      "      661000       1.00      1.00      1.00         2\n",
      "      662000       1.00      1.00      1.00         2\n",
      "      663000       1.00      1.00      1.00         1\n",
      "      664000       0.00      0.00      0.00         1\n",
      "      665000       0.67      1.00      0.80         2\n",
      "      668000       1.00      1.00      1.00         3\n",
      "      669000       1.00      1.00      1.00         1\n",
      "      670000       1.00      1.00      1.00         1\n",
      "      671000       1.00      1.00      1.00         2\n",
      "      672000       0.50      1.00      0.67         1\n",
      "      673000       0.00      0.00      0.00         1\n",
      "      674000       1.00      1.00      1.00         1\n",
      "      676000       0.50      1.00      0.67         1\n",
      "      677000       0.00      0.00      0.00         1\n",
      "      680000       1.00      1.00      1.00         2\n",
      "      682000       1.00      1.00      1.00         1\n",
      "      683000       1.00      1.00      1.00         3\n",
      "      684000       1.00      1.00      1.00         2\n",
      "      685000       0.50      1.00      0.67         1\n",
      "      686000       1.00      0.50      0.67         2\n",
      "      687000       1.00      1.00      1.00         1\n",
      "      690000       1.00      1.00      1.00         3\n",
      "      692000       1.00      1.00      1.00         3\n",
      "      694000       0.00      0.00      0.00         1\n",
      "      695000       0.50      1.00      0.67         1\n",
      "      696000       0.50      1.00      0.67         1\n",
      "      697000       0.00      0.00      0.00         1\n",
      "      699000       1.00      1.00      1.00         3\n",
      "      700000       1.00      1.00      1.00         1\n",
      "      701000       1.00      1.00      1.00         2\n",
      "      702000       1.00      1.00      1.00         1\n",
      "      706000       1.00      1.00      1.00         3\n",
      "      707000       1.00      1.00      1.00         2\n",
      "      708000       1.00      1.00      1.00         2\n",
      "      709000       1.00      1.00      1.00         1\n",
      "      710000       1.00      1.00      1.00         2\n",
      "      711000       1.00      1.00      1.00         1\n",
      "      712000       0.00      0.00      0.00         1\n",
      "      713000       0.00      0.00      0.00         2\n",
      "      714000       0.00      0.00      0.00         0\n",
      "      715000       0.00      0.00      0.00         1\n",
      "      717000       1.00      1.00      1.00         1\n",
      "      719000       0.67      0.67      0.67         3\n",
      "      720000       0.00      0.00      0.00         1\n",
      "      721000       1.00      1.00      1.00         1\n",
      "      724000       0.00      0.00      0.00         0\n",
      "      725000       1.00      0.50      0.67         2\n",
      "      728000       1.00      1.00      1.00         2\n",
      "      729000       1.00      1.00      1.00         1\n",
      "      730000       1.00      1.00      1.00         1\n",
      "      731000       1.00      1.00      1.00         2\n",
      "      732000       1.00      1.00      1.00         1\n",
      "      734000       0.00      0.00      0.00         1\n",
      "      735000       0.67      1.00      0.80         2\n",
      "      740000       1.00      1.00      1.00         1\n",
      "      741000       1.00      1.00      1.00         1\n",
      "      743000       1.00      1.00      1.00         1\n",
      "      746000       0.00      0.00      0.00         1\n",
      "      747000       0.00      0.00      0.00         1\n",
      "      748000       0.00      0.00      0.00         1\n",
      "      750000       0.00      0.00      0.00         1\n",
      "      751000       0.00      0.00      0.00         2\n",
      "      752000       0.25      1.00      0.40         1\n",
      "      754000       1.00      1.00      1.00         1\n",
      "      755000       0.00      0.00      0.00         1\n",
      "      756000       0.00      0.00      0.00         1\n",
      "      757000       0.00      0.00      0.00         1\n",
      "      758000       0.00      0.00      0.00         1\n",
      "      759000       0.00      0.00      0.00         2\n",
      "      761000       0.33      0.50      0.40         2\n",
      "      763000       1.00      1.00      1.00         1\n",
      "      764000       1.00      1.00      1.00         1\n",
      "      765000       0.00      0.00      0.00         1\n",
      "      766000       0.50      1.00      0.67         1\n",
      "      767000       1.00      1.00      1.00         1\n",
      "      769000       1.00      0.33      0.50         3\n",
      "      770000       0.00      0.00      0.00         0\n",
      "      772000       0.00      0.00      0.00         0\n",
      "      776000       0.00      0.00      0.00         0\n",
      "      777000       0.00      0.00      0.00         2\n",
      "      779000       0.00      0.00      0.00         0\n",
      "      780000       0.00      0.00      0.00         1\n",
      "      781000       0.00      0.00      0.00         2\n",
      "      782000       0.00      0.00      0.00         0\n",
      "      783000       0.33      1.00      0.50         1\n",
      "      784000       0.00      0.00      0.00         0\n",
      "      785000       0.00      0.00      0.00         1\n",
      "      787000       0.00      0.00      0.00         1\n",
      "      788000       0.00      0.00      0.00         1\n",
      "      789000       0.00      0.00      0.00         1\n",
      "      792000       0.00      0.00      0.00         1\n",
      "      793000       0.00      0.00      0.00         2\n",
      "      795000       1.00      1.00      1.00         1\n",
      "      796000       1.00      1.00      1.00         1\n",
      "      801000       1.00      1.00      1.00         1\n",
      "      802000       1.00      1.00      1.00         1\n",
      "      803000       0.50      1.00      0.67         1\n",
      "      804000       0.00      0.00      0.00         1\n",
      "      806000       0.00      0.00      0.00         0\n",
      "      807000       0.00      0.00      0.00         0\n",
      "      808000       0.00      0.00      0.00         2\n",
      "      810000       0.20      0.50      0.29         2\n",
      "      811000       1.00      0.25      0.40         4\n",
      "      813000       0.00      0.00      0.00         2\n",
      "      814000       0.00      0.00      0.00         0\n",
      "      815000       1.00      1.00      1.00         2\n",
      "      819000       1.00      1.00      1.00         1\n",
      "      822000       0.00      0.00      0.00         0\n",
      "      823000       0.00      0.00      0.00         1\n",
      "      824000       0.00      0.00      0.00         2\n",
      "      825000       1.00      1.00      1.00         1\n",
      "      826000       0.50      1.00      0.67         1\n",
      "      827000       0.00      0.00      0.00         1\n",
      "      828000       0.50      1.00      0.67         1\n",
      "      830000       1.00      1.00      1.00         1\n",
      "      831000       1.00      1.00      1.00         2\n",
      "      832000       1.00      1.00      1.00         1\n",
      "      834000       0.00      0.00      0.00         0\n",
      "      835000       0.00      0.00      0.00         4\n",
      "      836000       0.00      0.00      0.00         1\n",
      "      837000       1.00      1.00      1.00         1\n",
      "      842000       0.00      0.00      0.00         1\n",
      "      843000       0.00      0.00      0.00         0\n",
      "      844000       1.00      1.00      1.00         1\n",
      "      846000       0.00      0.00      0.00         2\n",
      "      849000       0.00      0.00      0.00         1\n",
      "      850000       0.50      1.00      0.67         1\n",
      "      851000       0.00      0.00      0.00         1\n",
      "      854000       1.00      0.50      0.67         2\n",
      "      855000       0.00      0.00      0.00         0\n",
      "      859000       1.00      1.00      1.00         1\n",
      "      860000       0.50      1.00      0.67         1\n",
      "      861000       0.00      0.00      0.00         1\n",
      "      862000       0.00      0.00      0.00         2\n",
      "      863000       0.33      1.00      0.50         1\n",
      "      866000       1.00      1.00      1.00         1\n",
      "      867000       0.00      0.00      0.00         1\n",
      "      868000       0.00      0.00      0.00         1\n",
      "      869000       0.00      0.00      0.00         1\n",
      "      870000       0.00      0.00      0.00         1\n",
      "      872000       0.00      0.00      0.00         1\n",
      "      873000       1.00      1.00      1.00         1\n",
      "      877000       1.00      1.00      1.00         1\n",
      "      878000       1.00      1.00      1.00         1\n",
      "      882000       0.00      0.00      0.00         0\n",
      "      883000       0.00      0.00      0.00         1\n",
      "      884000       0.00      0.00      0.00         1\n",
      "      886000       1.00      1.00      1.00         2\n",
      "      887000       0.00      0.00      0.00         1\n",
      "      888000       0.00      0.00      0.00         1\n",
      "      889000       0.00      0.00      0.00         1\n",
      "      893000       0.00      0.00      0.00         0\n",
      "      897000       1.00      1.00      1.00         1\n",
      "      898000       1.00      1.00      1.00         1\n",
      "      900000       0.00      0.00      0.00         0\n",
      "      903000       0.00      0.00      0.00         0\n",
      "      905000       0.00      0.00      0.00         1\n",
      "      909000       0.00      0.00      0.00         0\n",
      "      911000       0.00      0.00      0.00         1\n",
      "      912000       0.00      0.00      0.00         1\n",
      "      913000       0.00      0.00      0.00         0\n",
      "      914000       0.00      0.00      0.00         1\n",
      "      916000       0.00      0.00      0.00         1\n",
      "      917000       0.00      0.00      0.00         1\n",
      "      918000       0.00      0.00      0.00         1\n",
      "      919000       0.00      0.00      0.00         1\n",
      "      921000       0.00      0.00      0.00         0\n",
      "      924000       0.00      0.00      0.00         1\n",
      "      926000       0.50      1.00      0.67         1\n",
      "      928000       0.00      0.00      0.00         0\n",
      "      930000       0.00      0.00      0.00         2\n",
      "      939000       0.00      0.00      0.00         0\n",
      "      940000       0.00      0.00      0.00         2\n",
      "      944000       0.00      0.00      0.00         1\n",
      "      947000       0.17      1.00      0.29         1\n",
      "      949000       0.00      0.00      0.00         1\n",
      "      950000       0.00      0.00      0.00         0\n",
      "      951000       0.00      0.00      0.00         1\n",
      "      952000       0.00      0.00      0.00         1\n",
      "      953000       0.00      0.00      0.00         2\n",
      "      956000       0.00      0.00      0.00         1\n",
      "      957000       0.00      0.00      0.00         0\n",
      "      958000       0.00      0.00      0.00         1\n",
      "      961000       0.00      0.00      0.00         1\n",
      "      963000       0.00      0.00      0.00         1\n",
      "      964000       0.00      0.00      0.00         0\n",
      "      969000       1.00      1.00      1.00         1\n",
      "      974000       1.00      1.00      1.00         1\n",
      "      975000       1.00      1.00      1.00         1\n",
      "      976000       0.00      0.00      0.00         0\n",
      "      977000       0.00      0.00      0.00         1\n",
      "      979000       0.00      0.00      0.00         1\n",
      "      980000       0.67      1.00      0.80         2\n",
      "      984000       1.00      1.00      1.00         1\n",
      "      990000       1.00      1.00      1.00         2\n",
      "      994000       0.00      0.00      0.00         1\n",
      "      997000       0.00      0.00      0.00         1\n",
      "     1001000       0.00      0.00      0.00         1\n",
      "     1002000       0.00      0.00      0.00         0\n",
      "     1004000       0.00      0.00      0.00         1\n",
      "     1015000       0.00      0.00      0.00         1\n",
      "     1018000       0.50      1.00      0.67         1\n",
      "     1020000       0.00      0.00      0.00         1\n",
      "     1024000       0.00      0.00      0.00         0\n",
      "     1025000       0.00      0.00      0.00         0\n",
      "     1026000       0.00      0.00      0.00         1\n",
      "     1030000       0.00      0.00      0.00         0\n",
      "     1031000       0.00      0.00      0.00         1\n",
      "     1032000       1.00      1.00      1.00         1\n",
      "     1033000       0.00      0.00      0.00         1\n",
      "     1034000       0.00      0.00      0.00         0\n",
      "     1055000       0.00      0.00      0.00         0\n",
      "     1056000       0.00      0.00      0.00         1\n",
      "     1060000       1.00      1.00      1.00         1\n",
      "     1064000       0.50      1.00      0.67         1\n",
      "     1065000       0.00      0.00      0.00         1\n",
      "     1066000       0.00      0.00      0.00         1\n",
      "     1067000       0.67      1.00      0.80         2\n",
      "     1069000       0.00      0.00      0.00         0\n",
      "     1070000       0.00      0.00      0.00         1\n",
      "     1075000       0.00      0.00      0.00         1\n",
      "     1076000       0.00      0.00      0.00         0\n",
      "     1078000       0.00      0.00      0.00         1\n",
      "     1084000       0.00      0.00      0.00         0\n",
      "     1087000       0.00      0.00      0.00         1\n",
      "     1089000       0.00      0.00      0.00         1\n",
      "     1090000       0.00      0.00      0.00         0\n",
      "     1092000       0.00      0.00      0.00         0\n",
      "     1093000       0.00      0.00      0.00         1\n",
      "     1096000       1.00      1.00      1.00         1\n",
      "     1098000       1.00      1.00      1.00         1\n",
      "     1100000       0.00      0.00      0.00         0\n",
      "     1103000       0.00      0.00      0.00         1\n",
      "     1108000       0.00      0.00      0.00         1\n",
      "     1110000       0.00      0.00      0.00         0\n",
      "     1111000       0.00      0.00      0.00         0\n",
      "     1114000       0.00      0.00      0.00         0\n",
      "     1119000       0.00      0.00      0.00         1\n",
      "     1120000       0.00      0.00      0.00         1\n",
      "     1122000       0.00      0.00      0.00         1\n",
      "     1124000       0.00      0.00      0.00         1\n",
      "     1126000       0.00      0.00      0.00         0\n",
      "     1127000       0.67      1.00      0.80         2\n",
      "     1128000       0.00      0.00      0.00         1\n",
      "     1131000       1.00      1.00      1.00         1\n",
      "     1136000       1.00      1.00      1.00         1\n",
      "     1146000       1.00      1.00      1.00         1\n",
      "     1152000       0.50      1.00      0.67         1\n",
      "     1155000       0.00      0.00      0.00         1\n",
      "     1158000       0.00      0.00      0.00         0\n",
      "     1159000       0.00      0.00      0.00         1\n",
      "     1160000       0.00      0.00      0.00         1\n",
      "     1162000       0.00      0.00      0.00         1\n",
      "     1165000       0.00      0.00      0.00         1\n",
      "     1169000       0.00      0.00      0.00         1\n",
      "     1170000       0.00      0.00      0.00         0\n",
      "     1171000       0.00      0.00      0.00         0\n",
      "     1173000       0.50      1.00      0.67         1\n",
      "     1177000       0.00      0.00      0.00         1\n",
      "     1196000       0.00      0.00      0.00         1\n",
      "     1197000       0.00      0.00      0.00         1\n",
      "     1199000       0.00      0.00      0.00         0\n",
      "     1215000       0.00      0.00      0.00         0\n",
      "     1216000       0.00      0.00      0.00         1\n",
      "     1221000       0.00      0.00      0.00         0\n",
      "     1222000       0.00      0.00      0.00         1\n",
      "     1224000       0.00      0.00      0.00         1\n",
      "     1225000       0.00      0.00      0.00         0\n",
      "     1231000       0.50      1.00      0.67         1\n",
      "     1233000       0.00      0.00      0.00         1\n",
      "     1237000       0.00      0.00      0.00         1\n",
      "     1238000       0.00      0.00      0.00         0\n",
      "     1240000       0.00      0.00      0.00         1\n",
      "     1253000       0.00      0.00      0.00         0\n",
      "     1257000       0.00      0.00      0.00         1\n",
      "     1262000       0.00      0.00      0.00         1\n",
      "     1266000       0.00      0.00      0.00         0\n",
      "     1269000       1.00      1.00      1.00         1\n",
      "     1270000       0.50      1.00      0.67         1\n",
      "     1271000       0.00      0.00      0.00         1\n",
      "     1273000       0.00      0.00      0.00         0\n",
      "     1279000       0.00      0.00      0.00         1\n",
      "     1288000       0.00      0.00      0.00         1\n",
      "     1299000       0.00      0.00      0.00         1\n",
      "     1309000       0.00      0.00      0.00         1\n",
      "     1311000       0.00      0.00      0.00         0\n",
      "     1316000       0.00      0.00      0.00         1\n",
      "     1318000       0.00      0.00      0.00         0\n",
      "     1319000       0.00      0.00      0.00         1\n",
      "     1327000       0.00      0.00      0.00         0\n",
      "     1331000       0.00      0.00      0.00         0\n",
      "     1332000       0.00      0.00      0.00         1\n",
      "     1338000       0.00      0.00      0.00         1\n",
      "     1340000       0.00      0.00      0.00         1\n",
      "     1341000       0.00      0.00      0.00         1\n",
      "     1348000       0.00      0.00      0.00         1\n",
      "     1349000       0.00      0.00      0.00         1\n",
      "     1365000       1.00      1.00      1.00         1\n",
      "     1383000       0.00      0.00      0.00         0\n",
      "     1397000       0.00      0.00      0.00         1\n",
      "     1399000       0.00      0.00      0.00         1\n",
      "     1400000       0.33      1.00      0.50         1\n",
      "     1402000       0.00      0.00      0.00         1\n",
      "     1405000       1.00      1.00      1.00         1\n",
      "     1413000       0.00      0.00      0.00         1\n",
      "     1415000       0.00      0.00      0.00         0\n",
      "     1425000       0.00      0.00      0.00         1\n",
      "     1429000       0.00      0.00      0.00         0\n",
      "     1430000       0.00      0.00      0.00         1\n",
      "     1439000       0.00      0.00      0.00         0\n",
      "     1441000       1.00      1.00      1.00         1\n",
      "     1447000       0.00      0.00      0.00         1\n",
      "     1454000       0.00      0.00      0.00         0\n",
      "     1455000       0.00      0.00      0.00         0\n",
      "     1467000       0.00      0.00      0.00         1\n",
      "     1469000       0.00      0.00      0.00         2\n",
      "     1472000       0.00      0.00      0.00         0\n",
      "     1473000       0.00      0.00      0.00         1\n",
      "     1475000       0.00      0.00      0.00         0\n",
      "     1483000       0.00      0.00      0.00         0\n",
      "     1487000       0.00      0.00      0.00         2\n",
      "     1489000       0.00      0.00      0.00         0\n",
      "     1492000       0.00      0.00      0.00         0\n",
      "     1503000       0.00      0.00      0.00         1\n",
      "     1565000       0.00      0.00      0.00         0\n",
      "     1570000       0.00      0.00      0.00         1\n",
      "     1573000       0.00      0.00      0.00         1\n",
      "     1583000       0.00      0.00      0.00         0\n",
      "     1590000       0.00      0.00      0.00         1\n",
      "     1591000       0.00      0.00      0.00         1\n",
      "     1600000       0.00      0.00      0.00         1\n",
      "     1601000       0.00      0.00      0.00         1\n",
      "     1607000       0.00      0.00      0.00         1\n",
      "     1613000       0.00      0.00      0.00         0\n",
      "     1631000       0.00      0.00      0.00         1\n",
      "     1633000       0.00      0.00      0.00         0\n",
      "     1652000       0.00      0.00      0.00         0\n",
      "     1655000       0.00      0.00      0.00         0\n",
      "     1687000       0.00      0.00      0.00         1\n",
      "     1698000       0.00      0.00      0.00         1\n",
      "     1699000       0.00      0.00      0.00         0\n",
      "     1715000       0.00      0.00      0.00         1\n",
      "     1753000       0.00      0.00      0.00         0\n",
      "     1754000       0.00      0.00      0.00         0\n",
      "     1759000       0.00      0.00      0.00         1\n",
      "     1760000       0.00      0.00      0.00         1\n",
      "     1764000       0.00      0.00      0.00         0\n",
      "     1766000       0.00      0.00      0.00         1\n",
      "     1777000       0.00      0.00      0.00         1\n",
      "     1789000       0.00      0.00      0.00         1\n",
      "     1803000       0.00      0.00      0.00         0\n",
      "     1812000       0.00      0.00      0.00         0\n",
      "     1818000       0.00      0.00      0.00         1\n",
      "     1822000       0.00      0.00      0.00         1\n",
      "     1825000       0.00      0.00      0.00         0\n",
      "     1833000       0.00      0.00      0.00         1\n",
      "     1910000       0.00      0.00      0.00         1\n",
      "     1912000       0.00      0.00      0.00         0\n",
      "     1922000       0.00      0.00      0.00         1\n",
      "     1927000       0.00      0.00      0.00         1\n",
      "     2005000       0.00      0.00      0.00         0\n",
      "     2007000       0.00      0.00      0.00         1\n",
      "     2016000       0.00      0.00      0.00         1\n",
      "\n",
      "   micro avg       0.63      0.63      0.63       842\n",
      "   macro avg       0.46      0.48      0.46       842\n",
      "weighted avg       0.62      0.63      0.61       842\n",
      "\n"
     ]
    },
    {
     "name": "stderr",
     "output_type": "stream",
     "text": [
      "C:\\Users\\AKBAR\\Anaconda\\lib\\site-packages\\sklearn\\metrics\\classification.py:1143: UndefinedMetricWarning: Precision and F-score are ill-defined and being set to 0.0 in labels with no predicted samples.\n",
      "  'precision', 'predicted', average, warn_for)\n",
      "C:\\Users\\AKBAR\\Anaconda\\lib\\site-packages\\sklearn\\metrics\\classification.py:1145: UndefinedMetricWarning: Recall and F-score are ill-defined and being set to 0.0 in labels with no true samples.\n",
      "  'recall', 'true', average, warn_for)\n",
      "C:\\Users\\AKBAR\\Anaconda\\lib\\site-packages\\sklearn\\metrics\\classification.py:1143: UndefinedMetricWarning: Precision and F-score are ill-defined and being set to 0.0 in labels with no predicted samples.\n",
      "  'precision', 'predicted', average, warn_for)\n",
      "C:\\Users\\AKBAR\\Anaconda\\lib\\site-packages\\sklearn\\metrics\\classification.py:1145: UndefinedMetricWarning: Recall and F-score are ill-defined and being set to 0.0 in labels with no true samples.\n",
      "  'recall', 'true', average, warn_for)\n",
      "C:\\Users\\AKBAR\\Anaconda\\lib\\site-packages\\sklearn\\metrics\\classification.py:1143: UndefinedMetricWarning: Precision and F-score are ill-defined and being set to 0.0 in labels with no predicted samples.\n",
      "  'precision', 'predicted', average, warn_for)\n",
      "C:\\Users\\AKBAR\\Anaconda\\lib\\site-packages\\sklearn\\metrics\\classification.py:1145: UndefinedMetricWarning: Recall and F-score are ill-defined and being set to 0.0 in labels with no true samples.\n",
      "  'recall', 'true', average, warn_for)\n"
     ]
    }
   ],
   "source": [
    "print(classification_report(y_test,pred))"
   ]
  },
  {
   "cell_type": "code",
   "execution_count": 59,
   "metadata": {},
   "outputs": [
    {
     "data": {
      "text/plain": [
       "array([[0, 0, 0, ..., 0, 0, 0],\n",
       "       [1, 0, 0, ..., 0, 0, 0],\n",
       "       [0, 0, 0, ..., 0, 0, 0],\n",
       "       ...,\n",
       "       [0, 0, 0, ..., 0, 0, 0],\n",
       "       [0, 0, 0, ..., 1, 0, 0],\n",
       "       [0, 0, 0, ..., 0, 0, 0]], dtype=int64)"
      ]
     },
     "execution_count": 59,
     "metadata": {},
     "output_type": "execute_result"
    }
   ],
   "source": [
    "confusion_matrix(y_test,pred)"
   ]
  },
  {
   "cell_type": "code",
   "execution_count": 61,
   "metadata": {},
   "outputs": [],
   "source": [
    "from sklearn.ensemble import RandomForestRegressor"
   ]
  },
  {
   "cell_type": "code",
   "execution_count": 62,
   "metadata": {},
   "outputs": [],
   "source": [
    "X=df[['transmission', 'make_year', 'engine_capacity(CC)','km_driven', 'overall_cost','spare_key',\n",
    "      'ownership_2nd owner', 'ownership_3rd owner',\n",
    "      'fuel_type_Diesel', 'fuel_type_Electric', 'fuel_type_Petrol']]"
   ]
  },
  {
   "cell_type": "code",
   "execution_count": 64,
   "metadata": {},
   "outputs": [],
   "source": [
    "y=df['price']"
   ]
  },
  {
   "cell_type": "code",
   "execution_count": 65,
   "metadata": {},
   "outputs": [],
   "source": [
    "X_train, X_test, y_train, y_test = train_test_split(X, y, test_size=0.3, random_state=101)"
   ]
  },
  {
   "cell_type": "code",
   "execution_count": 66,
   "metadata": {},
   "outputs": [],
   "source": [
    "rf = RandomForestRegressor(n_estimators=500)"
   ]
  },
  {
   "cell_type": "code",
   "execution_count": 67,
   "metadata": {},
   "outputs": [
    {
     "data": {
      "text/plain": [
       "RandomForestRegressor(bootstrap=True, criterion='mse', max_depth=None,\n",
       "           max_features='auto', max_leaf_nodes=None,\n",
       "           min_impurity_decrease=0.0, min_impurity_split=None,\n",
       "           min_samples_leaf=1, min_samples_split=2,\n",
       "           min_weight_fraction_leaf=0.0, n_estimators=500, n_jobs=None,\n",
       "           oob_score=False, random_state=None, verbose=0, warm_start=False)"
      ]
     },
     "execution_count": 67,
     "metadata": {},
     "output_type": "execute_result"
    }
   ],
   "source": [
    "rf.fit(X_train,y_train)"
   ]
  },
  {
   "cell_type": "code",
   "execution_count": 69,
   "metadata": {},
   "outputs": [
    {
     "name": "stderr",
     "output_type": "stream",
     "text": [
      "C:\\Users\\AKBAR\\Anaconda\\lib\\site-packages\\sklearn\\ensemble\\base.py:158: DeprecationWarning: `np.int` is a deprecated alias for the builtin `int`. To silence this warning, use `int` by itself. Doing this will not modify any behavior and is safe. When replacing `np.int`, you may wish to use e.g. `np.int64` or `np.int32` to specify the precision. If you wish to review your current use, check the release note link for additional information.\n",
      "Deprecated in NumPy 1.20; for more details and guidance: https://numpy.org/devdocs/release/1.20.0-notes.html#deprecations\n",
      "  dtype=np.int)\n"
     ]
    }
   ],
   "source": [
    "predictions=rf.predict(X_test)"
   ]
  },
  {
   "cell_type": "code",
   "execution_count": 71,
   "metadata": {},
   "outputs": [],
   "source": [
    "from sklearn.metrics import r2_score"
   ]
  },
  {
   "cell_type": "code",
   "execution_count": 72,
   "metadata": {},
   "outputs": [
    {
     "name": "stdout",
     "output_type": "stream",
     "text": [
      "0.9961851269659869\n"
     ]
    }
   ],
   "source": [
    "print(r2_score(y_test,predictions))"
   ]
  },
  {
   "cell_type": "code",
   "execution_count": 73,
   "metadata": {},
   "outputs": [
    {
     "data": {
      "text/plain": [
       "<matplotlib.collections.PathCollection at 0x14fc4828>"
      ]
     },
     "execution_count": 73,
     "metadata": {},
     "output_type": "execute_result"
    },
    {
     "data": {
      "image/png": "[encoded data removed]",
      "text/plain": [
       "<Figure size 432x288 with 1 Axes>"
      ]
     },
     "metadata": {
      "needs_background": "light"
     },
     "output_type": "display_data"
    }
   ],
   "source": [
    "plt.scatter(y_test,predictions)"
   ]
  },
  {
   "cell_type": "code",
   "execution_count": null,
   "metadata": {},
   "outputs": [],
   "source": []
  }
 ],
 "metadata": {
  "kernelspec": {
   "display_name": "Python 3",
   "language": "python",
   "name": "python3"
  },
  "language_info": {
   "codemirror_mode": {
    "name": "ipython",
    "version": 3
   },
   "file_extension": ".py",
   "mimetype": "text/x-python",
   "name": "python",
   "nbconvert_exporter": "python",
   "pygments_lexer": "ipython3",
   "version": "3.7.3"
  }
 },
 "nbformat": 4,
 "nbformat_minor": 2
}
